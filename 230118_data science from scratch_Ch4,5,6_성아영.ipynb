{
 "cells": [
  {
   "attachments": {},
   "cell_type": "markdown",
   "metadata": {},
   "source": [
    "# vector"
   ]
  },
  {
   "attachments": {},
   "cell_type": "markdown",
   "metadata": {},
   "source": [
    "## vector의 연산"
   ]
  },
  {
   "cell_type": "code",
   "execution_count": 20,
   "metadata": {},
   "outputs": [],
   "source": [
    "def add(x, y):\n",
    "    return [ x_i + y_i for x_i, y_i in zip(x, y)]"
   ]
  },
  {
   "cell_type": "code",
   "execution_count": 22,
   "metadata": {},
   "outputs": [
    {
     "data": {
      "text/plain": [
       "[4, 6]"
      ]
     },
     "execution_count": 22,
     "metadata": {},
     "output_type": "execute_result"
    }
   ],
   "source": [
    "x = [1, 2]\n",
    "y = [3, 4]\n",
    "add(x, y)"
   ]
  },
  {
   "cell_type": "code",
   "execution_count": 23,
   "metadata": {},
   "outputs": [],
   "source": [
    "def substract(x, y):\n",
    "    return [ x_i - y_i for x_i, y_i in zip(x, y)]"
   ]
  },
  {
   "cell_type": "code",
   "execution_count": 24,
   "metadata": {},
   "outputs": [
    {
     "data": {
      "text/plain": [
       "[-2, -2]"
      ]
     },
     "execution_count": 24,
     "metadata": {},
     "output_type": "execute_result"
    }
   ],
   "source": [
    "x = [1, 2]\n",
    "y = [3, 4]\n",
    "substract(x, y)"
   ]
  },
  {
   "cell_type": "code",
   "execution_count": 34,
   "metadata": {},
   "outputs": [],
   "source": [
    "def dot(x, y):\n",
    "    return sum(x_i * y_i for x_i, y_i in zip(x, y))"
   ]
  },
  {
   "cell_type": "code",
   "execution_count": 35,
   "metadata": {},
   "outputs": [
    {
     "data": {
      "text/plain": [
       "11"
      ]
     },
     "execution_count": 35,
     "metadata": {},
     "output_type": "execute_result"
    }
   ],
   "source": [
    "x = [1, 2]\n",
    "y = [3, 4]\n",
    "dot(x, y)"
   ]
  },
  {
   "cell_type": "code",
   "execution_count": 38,
   "metadata": {},
   "outputs": [],
   "source": [
    "import math\n",
    "def magnitude(x):\n",
    "    return math.sqrt(dot(x, x))"
   ]
  },
  {
   "cell_type": "code",
   "execution_count": 42,
   "metadata": {},
   "outputs": [
    {
     "data": {
      "text/plain": [
       "5.0"
      ]
     },
     "execution_count": 42,
     "metadata": {},
     "output_type": "execute_result"
    }
   ],
   "source": [
    "magnitude(y)"
   ]
  },
  {
   "cell_type": "code",
   "execution_count": 27,
   "metadata": {},
   "outputs": [
    {
     "name": "stdout",
     "output_type": "stream",
     "text": [
      "[4 6]\n",
      "[-2 -2]\n"
     ]
    }
   ],
   "source": [
    "import numpy as np\n",
    "\n",
    "np_x = np.array(x)\n",
    "np_y = np.array(y)\n",
    "\n",
    "print(np_x+np_y)\n",
    "print(np_x-np_y)"
   ]
  },
  {
   "cell_type": "code",
   "execution_count": 32,
   "metadata": {},
   "outputs": [
    {
     "data": {
      "image/png": "[encoded data removed]",
      "text/plain": [
       "<Figure size 500x500 with 1 Axes>"
      ]
     },
     "metadata": {},
     "output_type": "display_data"
    }
   ],
   "source": [
    "import matplotlib.pyplot as plt\n",
    "\n",
    "plt.figure(figsize=(5,5))\n",
    "plt.xlim(0, 5)          \n",
    "plt.ylim(0, 5)\n",
    "plt.xticks(ticks=np.arange(0, 5, step=1))\n",
    "plt.yticks(ticks=np.arange(0, 5, step=1))\n",
    "\n",
    "plt.arrow(0, 0, np_x[0], np_x[1], head_width = .1, head_length = .1, color = 'red')\n",
    "plt.arrow(0, 0, np_y[0], np_y[1], head_width = .1, head_length = .1, color = 'blue')\n",
    "\n",
    "\n",
    "plt.axhline(0, color='gray', alpha = 0.3)\n",
    "plt.axvline(0, color='gray', alpha = 0.3)\n",
    "plt.title(\"Vector\")\n",
    "plt.grid()\n",
    "plt.show()"
   ]
  },
  {
   "cell_type": "code",
   "execution_count": 43,
   "metadata": {},
   "outputs": [
    {
     "data": {
      "image/png": "[encoded data removed]",
      "text/plain": [
       "<Figure size 500x500 with 1 Axes>"
      ]
     },
     "metadata": {},
     "output_type": "display_data"
    }
   ],
   "source": [
    "plt.figure(figsize=(5,5))\n",
    "plt.xlim(0, 5)          \n",
    "plt.ylim(0, 5)\n",
    "plt.xticks(ticks=np.arange(0, 5, step=1))\n",
    "plt.yticks(ticks=np.arange(0, 5, step=1))\n",
    "plt.arrow(0, 0, 3, 3, head_width = .1, head_length = .1, color = 'red')\n",
    "plt.axhline(0, color='gray', alpha = 0.3)\n",
    "plt.axvline(0, color='gray', alpha = 0.3)\n",
    "plt.title(\"Vector\")\n",
    "plt.grid()\n",
    "plt.show()"
   ]
  },
  {
   "attachments": {},
   "cell_type": "markdown",
   "metadata": {},
   "source": [
    "## norm"
   ]
  },
  {
   "cell_type": "code",
   "execution_count": 48,
   "metadata": {},
   "outputs": [
    {
     "name": "stdout",
     "output_type": "stream",
     "text": [
      "라이브러리 사용 x :  6\n",
      "라이브러리 사용 :  6.0\n"
     ]
    }
   ],
   "source": [
    "def L1_norm(x):\n",
    "    return sum(x)\n",
    "x = [3, 3]\n",
    "print(\"라이브러리 사용 x : \", L1_norm(x))\n",
    "np_x = np.array(x)\n",
    "print(\"라이브러리 사용 : \", np.linalg.norm(x, ord=1))"
   ]
  },
  {
   "cell_type": "code",
   "execution_count": 51,
   "metadata": {},
   "outputs": [
    {
     "name": "stdout",
     "output_type": "stream",
     "text": [
      "라이브러리 사용 x :  4.242640687119285\n",
      "라이브러리 사용 :  4.242640687119285\n"
     ]
    }
   ],
   "source": [
    "def L2_norm(x):\n",
    "    result = 0\n",
    "    for i in x:\n",
    "        result += i ** 2\n",
    "    return math.sqrt(result)\n",
    "x = [3, 3]\n",
    "print(\"라이브러리 사용 x : \", L2_norm(x))\n",
    "np_x = np.array(x)\n",
    "print(\"라이브러리 사용 : \", np.linalg.norm(x, ord=2))"
   ]
  },
  {
   "cell_type": "code",
   "execution_count": 56,
   "metadata": {},
   "outputs": [
    {
     "data": {
      "text/plain": [
       "7"
      ]
     },
     "execution_count": 56,
     "metadata": {},
     "output_type": "execute_result"
    }
   ],
   "source": [
    "def MaxL(x):\n",
    "    for i in range(len(x)):\n",
    "        x[i] = abs(x[i])\n",
    "    return max(x)\n",
    "x = [ 4, -7, 3]\n",
    "MaxL(x)"
   ]
  },
  {
   "attachments": {},
   "cell_type": "markdown",
   "metadata": {},
   "source": [
    "# Matrix"
   ]
  },
  {
   "cell_type": "code",
   "execution_count": 60,
   "metadata": {},
   "outputs": [],
   "source": [
    "# Matrix multiplication\n",
    "def Matrix_multiplication(arr1, arr2):\n",
    "    answer = [[ 0 for _ in range(len(arr2[0]))] for _ in range(len(arr1))]\n",
    "    for k in range(len(arr1)):\n",
    "        for i in range(len(arr2[0])):\n",
    "            for j in range(len(arr1[0])):\n",
    "                answer[k][i] += arr1[k][j] * arr2[j][i]\n",
    "                \n",
    "    return answer"
   ]
  },
  {
   "cell_type": "code",
   "execution_count": 61,
   "metadata": {},
   "outputs": [
    {
     "data": {
      "text/plain": [
       "[[15, 15], [15, 15], [15, 15]]"
      ]
     },
     "execution_count": 61,
     "metadata": {},
     "output_type": "execute_result"
    }
   ],
   "source": [
    "arr1 = [[1, 4], [3, 2], [4, 1]]\n",
    "arr2 = [[3, 3], [3, 3]]\n",
    "\n",
    "Matrix_multiplication(arr1, arr2)"
   ]
  },
  {
   "cell_type": "code",
   "execution_count": 63,
   "metadata": {},
   "outputs": [
    {
     "data": {
      "text/plain": [
       "[[1, 3, 4], [4, 2, 1]]"
      ]
     },
     "execution_count": 63,
     "metadata": {},
     "output_type": "execute_result"
    }
   ],
   "source": [
    "# Transpose\n",
    "\n",
    "def Transpose(arr1):\n",
    "    #* 연산자: 리스트 또는 튜플에 있는 원소들을 차례대로 꺼내어 함수 인자에 대응\n",
    "    return [list(x) for x in zip(*arr1)]\n",
    "\n",
    "arr1 = [[1, 4], [3, 2], [4, 1]]\n",
    "Transpose(arr1)"
   ]
  },
  {
   "cell_type": "code",
   "execution_count": 1,
   "metadata": {},
   "outputs": [
    {
     "name": "stdout",
     "output_type": "stream",
     "text": [
      "10\n",
      "[-4  8 -4]\n"
     ]
    },
    {
     "data": {
      "text/plain": [
       "10"
      ]
     },
     "execution_count": 1,
     "metadata": {},
     "output_type": "execute_result"
    }
   ],
   "source": [
    "import numpy as np\n",
    "\n",
    "x = np.array([1,2,3])\n",
    "y = np.array([3,2,1])\n",
    "\n",
    "print(np.dot(x, y))\n",
    "print(np.cross(x, y))\n",
    "x @ y"
   ]
  },
  {
   "cell_type": "code",
   "execution_count": 2,
   "metadata": {},
   "outputs": [
    {
     "name": "stdout",
     "output_type": "stream",
     "text": [
      "[-4 -4]\n"
     ]
    },
    {
     "data": {
      "text/plain": [
       "array([[19, 22],\n",
       "       [43, 50]])"
      ]
     },
     "execution_count": 2,
     "metadata": {},
     "output_type": "execute_result"
    }
   ],
   "source": [
    "import numpy as np\n",
    "\n",
    "A = np.array([[1, 2],\n",
    "\t      [3, 4]])\n",
    "             \n",
    "B = np.array([[5, 6],\n",
    "\t     [7, 8]])\n",
    "\n",
    "print(np.cross(A, B))\n",
    "A @ B"
   ]
  },
  {
   "cell_type": "code",
   "execution_count": 75,
   "metadata": {},
   "outputs": [
    {
     "name": "stdout",
     "output_type": "stream",
     "text": [
      "[[[[ 28  34]\n",
      "   [ 76  82]]\n",
      "\n",
      "  [[ 76  98]\n",
      "   [252 274]]]\n",
      "\n",
      "\n",
      " [[[124 162]\n",
      "   [428 466]]\n",
      "\n",
      "  [[172 226]\n",
      "   [604 658]]]]\n"
     ]
    },
    {
     "data": {
      "text/plain": [
       "array([[[ 28,  34],\n",
       "        [ 76,  98]],\n",
       "\n",
       "       [[428, 466],\n",
       "        [604, 658]]])"
      ]
     },
     "execution_count": 75,
     "metadata": {},
     "output_type": "execute_result"
    }
   ],
   "source": [
    "x = np.arange(2*2*4).reshape((2,2,4))\n",
    "y = np.arange(2*2*4).reshape((2,4,2))\n",
    "\n",
    "print(np.dot(x, y))\n",
    "x @ y"
   ]
  },
  {
   "attachments": {},
   "cell_type": "markdown",
   "metadata": {},
   "source": [
    "## 고유값, 고유벡터, 고유값 분해"
   ]
  },
  {
   "cell_type": "code",
   "execution_count": 57,
   "metadata": {},
   "outputs": [
    {
     "data": {
      "image/png": "[encoded data removed]",
      "text/plain": [
       "<Figure size 500x500 with 1 Axes>"
      ]
     },
     "metadata": {},
     "output_type": "display_data"
    }
   ],
   "source": [
    "plt.figure(figsize=(5,5))\n",
    "plt.xlim(0, 5)          \n",
    "plt.ylim(0, 5)\n",
    "plt.xticks(ticks=np.arange(0, 5, step=1))\n",
    "plt.yticks(ticks=np.arange(0, 5, step=1))\n",
    "plt.arrow(0, 0, 3, 3, head_width = .1, head_length = .1, color = 'red')\n",
    "plt.arrow(0, 0, 1, 1, head_width = .1, head_length = .1, color = 'blue')\n",
    "plt.axhline(0, color='gray', alpha = 0.3)\n",
    "plt.axvline(0, color='gray', alpha = 0.3)\n",
    "plt.title(\"Vector\")\n",
    "plt.grid()\n",
    "plt.show()"
   ]
  },
  {
   "cell_type": "code",
   "execution_count": 78,
   "metadata": {},
   "outputs": [
    {
     "name": "stdout",
     "output_type": "stream",
     "text": [
      "(array([6., 2.]), matrix([[ 0.70710678, -0.70710678],\n",
      "        [ 0.70710678,  0.70710678]]))\n"
     ]
    }
   ],
   "source": [
    "import numpy as np\n",
    "\n",
    "#정사각형 배열의 고유값과 우측 고유벡터를 계산\n",
    "eig = np.linalg.eig\n",
    "matrix = np.matrix\n",
    "\n",
    "test = matrix([[4, 2], [2, 4]])\n",
    "print(eig(test))"
   ]
  },
  {
   "cell_type": "code",
   "execution_count": 79,
   "metadata": {},
   "outputs": [
    {
     "name": "stdout",
     "output_type": "stream",
     "text": [
      "고유값:  [6. 2.]\n",
      "고유벡터:  [[ 0.70710678 -0.70710678]\n",
      " [ 0.70710678  0.70710678]]\n"
     ]
    }
   ],
   "source": [
    "value = eig(test)[0]\n",
    "vector = eig(test)[1]\n",
    "\n",
    "print(\"고유값: \", value)\n",
    "print(\"고유벡터: \", vector)"
   ]
  },
  {
   "cell_type": "code",
   "execution_count": 97,
   "metadata": {},
   "outputs": [
    {
     "data": {
      "text/plain": [
       "array([[20, 16],\n",
       "       [16, 20]])"
      ]
     },
     "execution_count": 97,
     "metadata": {},
     "output_type": "execute_result"
    }
   ],
   "source": [
    "# 직교행렬 확인\n",
    "import numpy as np\n",
    "\n",
    "A = [[2, 4], [4, 2]]\n",
    "AT = np.transpose(A)\n",
    "res = np.matmul(A, AT)\n",
    "res"
   ]
  },
  {
   "cell_type": "code",
   "execution_count": 99,
   "metadata": {},
   "outputs": [
    {
     "data": {
      "text/plain": [
       "array([[1., 0.],\n",
       "       [0., 1.]])"
      ]
     },
     "execution_count": 99,
     "metadata": {},
     "output_type": "execute_result"
    }
   ],
   "source": [
    "A = [[1/(2**0.5), -1/(2**0.5)], [1/(2**0.5), 1/(2**0.5)]]\n",
    "AT = Transpose(A)\n",
    "res = np.matmul(A, AT)\n",
    "res"
   ]
  },
  {
   "attachments": {},
   "cell_type": "markdown",
   "metadata": {},
   "source": [
    "# Power Iteartion"
   ]
  },
  {
   "cell_type": "code",
   "execution_count": 102,
   "metadata": {},
   "outputs": [],
   "source": [
    "def eigenvalue(A, v):\n",
    "    Av = A.dot(v)\n",
    "    return v.dot(Av)\n",
    "\n",
    "def power_iteration(A):\n",
    "    # 배열의 형태 확인\n",
    "    n, d = A.shape\n",
    "    \n",
    "    #임의의 벡터 선택\n",
    "    v = np.ones(d) / np.sqrt(d)\n",
    "    ev = eigenvalue(A, v)\n",
    "\n",
    "    while True:\n",
    "        Av = A.dot(v)\n",
    "        #정규화\n",
    "        v_new = Av / np.linalg.norm(Av)\n",
    "\n",
    "        ev_new = eigenvalue(A, v_new)\n",
    "        # 고유 벡터 확인\n",
    "        if np.abs(ev - ev_new) < 0.01:\n",
    "            break\n",
    "\n",
    "        v = v_new\n",
    "        ev = ev_new\n",
    "\n",
    "    return ev_new, v_new"
   ]
  },
  {
   "cell_type": "code",
   "execution_count": 104,
   "metadata": {},
   "outputs": [
    {
     "data": {
      "text/plain": [
       "(6.000000000000001, array([0.70710678, 0.70710678]))"
      ]
     },
     "execution_count": 104,
     "metadata": {},
     "output_type": "execute_result"
    }
   ],
   "source": [
    "x =np.array([[4, 2], [2, 4]])\n",
    "power_iteration(x)"
   ]
  },
  {
   "attachments": {},
   "cell_type": "markdown",
   "metadata": {},
   "source": [
    "# SVD"
   ]
  },
  {
   "cell_type": "code",
   "execution_count": 114,
   "metadata": {},
   "outputs": [],
   "source": [
    "def eigenvalue(A, v):\n",
    "    val = A @ v /v\n",
    "    return val[0]\n",
    "\n",
    "def svd_power_iteration(A):\n",
    "    n, d = A.shape\n",
    "    \n",
    "    v = np.ones(d) / np.sqrt(d)\n",
    "    ev = eigenvalue(A, v)\n",
    "    while True:\n",
    "        \n",
    "        Av = A @ v\n",
    "        v_new = Av / np.linalg.norm(Av)\n",
    "        ev_new = eigenvalue(A, v_new)\n",
    "        \n",
    "        if np.abs(ev - ev_new) < 0.01:\n",
    "            break\n",
    "        v = v_new\n",
    "        ev = ev_new\n",
    "    return ev_new, v_new"
   ]
  },
  {
   "cell_type": "code",
   "execution_count": 3,
   "metadata": {},
   "outputs": [
    {
     "name": "stdout",
     "output_type": "stream",
     "text": [
      "[[-0.068  0.424  0.096 -1.203]\n",
      " [-0.139 -0.959 -0.705 -0.152]\n",
      " [-1.334  0.404 -0.144  0.477]\n",
      " [ 0.817  1.656 -0.332  0.39 ]]\n",
      "(4, 4) (4,) (4, 4)\n",
      "U matrix: \n",
      " [[ 0.096 -0.374  0.894  0.229]\n",
      " [-0.453 -0.119 -0.221  0.856]\n",
      " [-0.052  0.919  0.342  0.189]\n",
      " [ 0.885  0.034 -0.19   0.424]]\n",
      "Sigma matrix: \n",
      " [2.117 1.53  1.247 0.767]\n",
      "VT matrix: \n",
      " [[ 0.401  0.907  0.02   0.129]\n",
      " [-0.756  0.251 -0.062  0.601]\n",
      " [-0.514  0.332  0.205 -0.764]\n",
      " [-0.051  0.072 -0.977 -0.196]]\n"
     ]
    }
   ],
   "source": [
    "from scipy.linalg import svd\n",
    "import numpy as np\n",
    "A = np.random.randn(4, 4)\n",
    "\n",
    "print(np.round(A, 3))\n",
    "\n",
    "U, s, VT = svd(A)\n",
    "print(U.shape, s.shape, VT.shape)\n",
    "print('U matrix: \\n', np.round(U, 3))\n",
    "print('Sigma matrix: \\n', np.round(s, 3))\n",
    "print('VT matrix: \\n', np.round(VT, 3))"
   ]
  },
  {
   "cell_type": "code",
   "execution_count": 4,
   "metadata": {},
   "outputs": [
    {
     "name": "stdout",
     "output_type": "stream",
     "text": [
      "[[-0.068  0.424  0.096 -1.203]\n",
      " [-0.139 -0.959 -0.705 -0.152]\n",
      " [-1.334  0.404 -0.144  0.477]\n",
      " [ 0.817  1.656 -0.332  0.39 ]]\n"
     ]
    }
   ],
   "source": [
    "sigma_mat = np.diag(s)\n",
    "A_ = np.dot(np.dot(U, sigma_mat), VT)\n",
    "print(np.round(A_, 3))"
   ]
  },
  {
   "cell_type": "code",
   "execution_count": 7,
   "metadata": {},
   "outputs": [
    {
     "name": "stdout",
     "output_type": "stream",
     "text": [
      "원본 행렬 : \n",
      " [[0.94239882 0.06814367 0.07359402 0.41040176 0.71902835 0.26853464]\n",
      " [0.6042941  0.04954551 0.91419639 0.71404877 0.65255076 0.197457  ]\n",
      " [0.75386748 0.34413931 0.52216243 0.81219548 0.28445648 0.47441594]\n",
      " [0.22107422 0.8151927  0.45406009 0.31420269 0.95360106 0.48479009]\n",
      " [0.9586628  0.79284156 0.2592423  0.79792658 0.41788771 0.1587559 ]\n",
      " [0.70728186 0.61231735 0.37616756 0.94523134 0.65859006 0.96054912]]\n",
      "\n",
      "분해 행렬 차원:  (6, 6) (6,) (6, 6)\n",
      "\n",
      "Sigma Matrix:\n",
      " [3.38674747 0.90243281 0.77767488 0.65243568 0.56415775 0.07899038]\n",
      "\n",
      "Truncated SVD 분해 행렬 차원:  (6, 4) (4,) (4, 6)\n",
      "\n",
      "Truncated SVD Sigma Matrix:\n",
      " [0.65243568 0.77767488 0.90243281 3.38674747]\n",
      "\n",
      "Truncated SVD 분해 후 복원 행렬: \n",
      " [[ 0.93908579  0.19696455  0.14721772  0.42510879  0.68528847  0.09188175]\n",
      " [ 0.61383766 -0.0070035   0.88769008  0.69400619  0.66216239  0.28465234]\n",
      " [ 0.7286176   0.33707531  0.49985117  0.85410355  0.30265259  0.45376652]\n",
      " [ 0.21232923  0.75332838  0.41127637  0.32450013  0.97644755  0.55729556]\n",
      " [ 0.96588807  0.58677473  0.14285467  0.7711664   0.47062164  0.44363364]\n",
      " [ 0.72186701  0.7938717   0.49376489  0.93361932  0.59866295  0.73455033]]\n"
     ]
    }
   ],
   "source": [
    "import numpy as np\n",
    "from scipy.sparse.linalg import svds\n",
    "from scipy.linalg import svd\n",
    "\n",
    "matrix = np.random.random((6, 6))\n",
    "print('원본 행렬 : \\n', matrix)\n",
    "\n",
    "U, Sigma, Vt = svd(matrix, full_matrices=False)\n",
    "print('\\n분해 행렬 차원: ', U.shape, Sigma.shape, Vt.shape)\n",
    "print('\\nSigma Matrix:\\n', Sigma)\n",
    "\n",
    "num_components = 4\n",
    "U_tr, Sigma_tr, Vt_tr = svds(matrix, k=num_components)\n",
    "\n",
    "print('\\nTruncated SVD 분해 행렬 차원: ', U_tr.shape, Sigma_tr.shape, Vt_tr.shape)\n",
    "print('\\nTruncated SVD Sigma Matrix:\\n', Sigma_tr)\n",
    "matrix_tr = np.dot(np.dot(U_tr, np.diag(Sigma_tr)), Vt_tr)\n",
    "\n",
    "print('\\nTruncated SVD 분해 후 복원 행렬: \\n', matrix_tr)"
   ]
  },
  {
   "cell_type": "code",
   "execution_count": null,
   "metadata": {},
   "outputs": [],
   "source": []
  }
 ],
 "metadata": {
  "kernelspec": {
   "display_name": "base",
   "language": "python",
   "name": "python3"
  },
  "language_info": {
   "codemirror_mode": {
    "name": "ipython",
    "version": 3
   },
   "file_extension": ".py",
   "mimetype": "text/x-python",
   "name": "python",
   "nbconvert_exporter": "python",
   "pygments_lexer": "ipython3",
   "version": "3.9.13"
  },
  "orig_nbformat": 4,
  "vscode": {
   "interpreter": {
    "hash": "3c73bdefccaf48e728a83183c4b62184225f554a39082c36ad770ba68b989c4f"
   }
  }
 },
 "nbformat": 4,
 "nbformat_minor": 2
}
