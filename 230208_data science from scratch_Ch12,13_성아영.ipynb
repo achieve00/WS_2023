{
 "cells": [
  {
   "cell_type": "code",
   "execution_count": 1,
   "metadata": {},
   "outputs": [],
   "source": [
    "import numpy as np\n",
    "from math import *\n"
   ]
  },
  {
   "cell_type": "code",
   "execution_count": 2,
   "metadata": {},
   "outputs": [],
   "source": [
    "def euclidean_distance(x, y):   \n",
    "    return np.sqrt(np.sum((x - y) ** 2))"
   ]
  },
  {
   "cell_type": "code",
   "execution_count": 3,
   "metadata": {},
   "outputs": [],
   "source": [
    "def mamhattan_distance(x, y):\n",
    "    return sum(abs(x - y))"
   ]
  },
  {
   "cell_type": "code",
   "execution_count": 4,
   "metadata": {},
   "outputs": [],
   "source": [
    "def jaccard_similarity(x,y):\n",
    "    intersection_cardinality = len(set.intersection(*[set(x), set(y)]))\n",
    "    union_cardinality = len(set.union(*[set(x), set(y)]))\n",
    "    return intersection_cardinality/float(union_cardinality)"
   ]
  },
  {
   "cell_type": "code",
   "execution_count": 5,
   "metadata": {},
   "outputs": [
    {
     "name": "stdout",
     "output_type": "stream",
     "text": [
      "유클리디언 유사도 측정\n",
      "1.2385639629790017\n",
      "맨하탄 유사도 측정\n",
      "3.9166831508181126\n"
     ]
    }
   ],
   "source": [
    "from sklearn.feature_extraction.text import TfidfVectorizer\n",
    "\n",
    "txt1 = \"apple banana everyone like likey watch card holder\"\n",
    "txt2 = \"apple card banana juice coupon passport love you\"\n",
    "\n",
    "txt3 = []\n",
    "txt3.append(txt1)\n",
    "txt3.append(txt2)\n",
    "\n",
    "tokenized_doc1 = txt1.split()\n",
    "tokenized_doc2 = txt2.split()\n",
    "\n",
    "tfidvec = TfidfVectorizer()\n",
    "\n",
    "tfidvector = tfidvec.fit_transform(txt3)\n",
    "feature_vec_dense = tfidvector.todense()\n",
    "\n",
    "vec1 = np.array(feature_vec_dense[0]).reshape(-1, )\n",
    "vec2 = np.array(feature_vec_dense[1]).reshape(-1, )\n",
    "\n",
    "\n",
    "# 유클리디언 거리\n",
    "euc_d_norm = euclidean_distance(vec1, vec2)\n",
    "print(\"유클리디언 유사도 측정\")\n",
    "print(euc_d_norm)\n",
    "\n",
    "# 맨하탄\n",
    "manhattan_d = mamhattan_distance(vec1, vec2)\n",
    "print(\"맨하탄 유사도 측정\")\n",
    "print(manhattan_d)\n",
    "\n"
   ]
  },
  {
   "cell_type": "code",
   "execution_count": 6,
   "metadata": {},
   "outputs": [],
   "source": [
    "def cosine_similarity(x, y):\n",
    "    return np.dot(x, y) / (np.sqrt(np.dot(x, x)) * np.sqrt(np.dot(y, y)))"
   ]
  },
  {
   "cell_type": "code",
   "execution_count": 7,
   "metadata": {},
   "outputs": [],
   "source": [
    "def pearson_similarity(x, y):\n",
    "    return np.dot((x-np.mean(x)), (y-np.mean(y)))/ \\\n",
    "        (np.linalg.norm(x -np.mean(x))) *(np.linalg.norm(y -np.mean(y)))"
   ]
  },
  {
   "cell_type": "code",
   "execution_count": 8,
   "metadata": {},
   "outputs": [],
   "source": [
    "def adjusted_cosine_similarity(a, b):\n",
    "    mu_a = np.mean(a)\n",
    "    mu_b = np.mean(b)\n",
    "    \n",
    "    norm_a = a - mu_a\n",
    "    norm_b = b - mu_b\n",
    "    \n",
    "    return cosine_similarity(norm_a, norm_b)"
   ]
  },
  {
   "cell_type": "code",
   "execution_count": 9,
   "metadata": {},
   "outputs": [
    {
     "name": "stdout",
     "output_type": "stream",
     "text": [
      "코사인 유사도 측정\n",
      "0.2329796548048752\n",
      "피어슨 유사도 측정\n",
      "-0.3676733027077107\n",
      "adjusted_cosine_similarity 측정\n",
      "-0.9206861791628228\n"
     ]
    }
   ],
   "source": [
    "# 코사인 유사도\n",
    "# 첫 번째와 두 번째 문장 비교\n",
    "cos_similar = cosine_similarity(vec1, vec2)\n",
    "print(\"코사인 유사도 측정\")\n",
    "print(cos_similar)\n",
    "\n",
    "pearson_similar = pearson_similarity(vec1, vec2)\n",
    "print(\"피어슨 유사도 측정\")\n",
    "print(pearson_similar)\n",
    "\n",
    "adjusted_cosine_similar = adjusted_cosine_similarity(vec1, vec2)\n",
    "print(\"adjusted_cosine_similarity 측정\")\n",
    "print(adjusted_cosine_similar)"
   ]
  },
  {
   "cell_type": "code",
   "execution_count": 10,
   "metadata": {},
   "outputs": [
    {
     "name": "stdout",
     "output_type": "stream",
     "text": [
      "자카드 유사도 측정\n",
      "0.23076923076923078\n"
     ]
    }
   ],
   "source": [
    "#자카드 유사도\n",
    "union = set(tokenized_doc1).union(set(tokenized_doc2))\n",
    "#print(union)\n",
    "intersection = set(tokenized_doc1).intersection(set(tokenized_doc2))\n",
    "#print(intersection)\n",
    "\n",
    "print(\"자카드 유사도 측정\")\n",
    "print(jaccard_similarity(tokenized_doc1, tokenized_doc2))"
   ]
  },
  {
   "cell_type": "code",
   "execution_count": null,
   "metadata": {},
   "outputs": [],
   "source": []
  }
 ],
 "metadata": {
  "kernelspec": {
   "display_name": "base",
   "language": "python",
   "name": "python3"
  },
  "language_info": {
   "codemirror_mode": {
    "name": "ipython",
    "version": 3
   },
   "file_extension": ".py",
   "mimetype": "text/x-python",
   "name": "python",
   "nbconvert_exporter": "python",
   "pygments_lexer": "ipython3",
   "version": "3.9.13"
  },
  "orig_nbformat": 4,
  "vscode": {
   "interpreter": {
    "hash": "3c73bdefccaf48e728a83183c4b62184225f554a39082c36ad770ba68b989c4f"
   }
  }
 },
 "nbformat": 4,
 "nbformat_minor": 2
}
