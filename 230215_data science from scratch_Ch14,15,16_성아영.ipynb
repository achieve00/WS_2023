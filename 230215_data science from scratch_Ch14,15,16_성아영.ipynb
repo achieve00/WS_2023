{
 "cells": [
  {
   "cell_type": "code",
   "execution_count": 385,
   "metadata": {},
   "outputs": [
    {
     "name": "stderr",
     "output_type": "stream",
     "text": [
      "c:\\Users\\AY\\anaconda3\\lib\\site-packages\\sklearn\\utils\\deprecation.py:87: FutureWarning: Function load_boston is deprecated; `load_boston` is deprecated in 1.0 and will be removed in 1.2.\n",
      "\n",
      "    The Boston housing prices dataset has an ethical problem. You can refer to\n",
      "    the documentation of this function for further details.\n",
      "\n",
      "    The scikit-learn maintainers therefore strongly discourage the use of this\n",
      "    dataset unless the purpose of the code is to study and educate about\n",
      "    ethical issues in data science and machine learning.\n",
      "\n",
      "    In this special case, you can fetch the dataset from the original\n",
      "    source::\n",
      "\n",
      "        import pandas as pd\n",
      "        import numpy as np\n",
      "\n",
      "\n",
      "        data_url = \"http://lib.stat.cmu.edu/datasets/boston\"\n",
      "        raw_df = pd.read_csv(data_url, sep=\"\\s+\", skiprows=22, header=None)\n",
      "        data = np.hstack([raw_df.values[::2, :], raw_df.values[1::2, :2]])\n",
      "        target = raw_df.values[1::2, 2]\n",
      "\n",
      "    Alternative datasets include the California housing dataset (i.e.\n",
      "    :func:`~sklearn.datasets.fetch_california_housing`) and the Ames housing\n",
      "    dataset. You can load the datasets as follows::\n",
      "\n",
      "        from sklearn.datasets import fetch_california_housing\n",
      "        housing = fetch_california_housing()\n",
      "\n",
      "    for the California housing dataset and::\n",
      "\n",
      "        from sklearn.datasets import fetch_openml\n",
      "        housing = fetch_openml(name=\"house_prices\", as_frame=True)\n",
      "\n",
      "    for the Ames housing dataset.\n",
      "    \n",
      "  warnings.warn(msg, category=FutureWarning)\n"
     ]
    }
   ],
   "source": [
    "import numpy as np\n",
    "import pandas as pd\n",
    "import matplotlib.pyplot as plt\n",
    "from sklearn.datasets import load_boston\n",
    "from sklearn.preprocessing import StandardScaler\n",
    "from sklearn.preprocessing import MinMaxScaler\n",
    "%matplotlib inline\n",
    "\n",
    "boston = load_boston()\n",
    "df = pd.DataFrame(boston.data, columns=boston.feature_names)\n",
    "df['target'] = boston.target\n",
    "\n",
    "x = np.array(df['RM'])\n",
    "y = np.array(df['target'])\n",
    "\n",
    "scaler = MinMaxScaler()\n",
    "scale_x = scaler.fit_transform(x.reshape(-1, 1))\n"
   ]
  },
  {
   "cell_type": "code",
   "execution_count": 386,
   "metadata": {},
   "outputs": [],
   "source": [
    "def least_squares_fit(x, y):\n",
    "    w = np.corrcoef(x, y) * np.std(y) / np.std(x)\n",
    "    b = np.mean(y) - w * np.mean(x)\n",
    "    return w, b"
   ]
  },
  {
   "cell_type": "code",
   "execution_count": 387,
   "metadata": {},
   "outputs": [],
   "source": [
    "def predict(x, w, b)-> float:\n",
    "    return x * w + b"
   ]
  },
  {
   "cell_type": "code",
   "execution_count": 388,
   "metadata": {},
   "outputs": [],
   "source": [
    "def MSE(x, w, b, y)-> float:\n",
    "    error = (y - predict(x, w, b))**2 / len(y)\n",
    "    return error"
   ]
  },
  {
   "cell_type": "code",
   "execution_count": 389,
   "metadata": {},
   "outputs": [],
   "source": [
    "def cost_function(x, w, b, y)-> float:\n",
    "    error = MSE(x, w, b, y)\n",
    "    return 1 / 2 * error"
   ]
  },
  {
   "cell_type": "code",
   "execution_count": 402,
   "metadata": {},
   "outputs": [
    {
     "name": "stdout",
     "output_type": "stream",
     "text": [
      " 0 w = 16.20356, b = 41.27908 error = 861.70189\n",
      " 5 w = 12.21718, b = 40.62693 error = 712.11786\n",
      "10 w = 8.64215, b = 40.04024 error = 591.65775\n",
      "15 w = 5.43628, b = 39.51229 error = 494.65295\n",
      "20 w = 2.56173, b = 39.03706 error = 416.53788\n",
      "25 w = -0.01545, b = 38.60914 error = 353.63538\n",
      "30 w = -2.32576, b = 38.22369 error = 302.98389\n",
      "35 w = -4.39654, b = 37.87635 error = 262.19816\n",
      "40 w = -6.25237, b = 37.56321 error = 229.35719\n",
      "45 w = -7.91526, b = 37.28078 error = 202.91386\n",
      "50 w = -9.40500, b = 37.02589 error = 181.62217\n",
      "55 w = -10.73934, b = 36.79574 error = 164.47868\n",
      "60 w = -11.93421, b = 36.58777 error = 150.67526\n",
      "65 w = -13.00391, b = 36.39972 error = 139.56115\n",
      "70 w = -13.96126, b = 36.22955 error = 130.61228\n",
      "75 w = -14.81779, b = 36.07542 error = 123.40661\n",
      "80 w = -15.58383, b = 35.93569 error = 117.60431\n",
      "85 w = -16.26865, b = 35.80889 error = 112.93173\n",
      "90 w = -16.88059, b = 35.69368 error = 109.16854\n",
      "95 w = -17.42711, b = 35.58887 error = 106.13732\n",
      "100 w = -17.91492, b = 35.49342 error = 103.69522\n",
      "105 w = -18.35004, b = 35.40634 error = 101.72724\n",
      "110 w = -18.73787, b = 35.32679 error = 100.14079\n",
      "115 w = -19.08325, b = 35.25399 error = 98.86134\n",
      "120 w = -19.39055, b = 35.18726 error = 97.82888\n",
      "125 w = -19.66366, b = 35.12596 error = 96.99511\n",
      "130 w = -19.90608, b = 35.06955 error = 96.32118\n",
      "135 w = -20.12097, b = 35.01752 error = 95.77578\n",
      "140 w = -20.31114, b = 34.96942 error = 95.33375\n",
      "145 w = -20.47914, b = 34.92485 error = 94.97482\n",
      "150 w = -20.62723, b = 34.88344 error = 94.68269\n",
      "155 w = -20.75745, b = 34.84488 error = 94.44426\n",
      "160 w = -20.87163, b = 34.80888 error = 94.24897\n",
      "165 w = -20.97143, b = 34.77516 error = 94.08834\n",
      "170 w = -21.05831, b = 34.74349 error = 93.95555\n",
      "175 w = -21.13360, b = 34.71367 error = 93.84511\n",
      "180 w = -21.19848, b = 34.68551 error = 93.75260\n",
      "185 w = -21.25403, b = 34.65883 error = 93.67450\n",
      "190 w = -21.30120, b = 34.63349 error = 93.60795\n",
      "195 w = -21.34085, b = 34.60934 error = 93.55066\n",
      "200 w = -21.37374, b = 34.58627 error = 93.50079\n",
      "205 w = -21.40058, b = 34.56416 error = 93.45687\n",
      "210 w = -21.42199, b = 34.54291 error = 93.41772\n",
      "215 w = -21.43851, b = 34.52244 error = 93.38238\n",
      "220 w = -21.45065, b = 34.50267 error = 93.35009\n",
      "225 w = -21.45887, b = 34.48352 error = 93.32025\n",
      "230 w = -21.46356, b = 34.46494 error = 93.29236\n",
      "235 w = -21.46508, b = 34.44686 error = 93.26603\n",
      "240 w = -21.46376, b = 34.42923 error = 93.24095\n",
      "245 w = -21.45988, b = 34.41200 error = 93.21686\n",
      "250 w = -21.45372, b = 34.39514 error = 93.19357\n",
      "255 w = -21.44551, b = 34.37861 error = 93.17092\n",
      "260 w = -21.43545, b = 34.36237 error = 93.14877\n",
      "265 w = -21.42374, b = 34.34640 error = 93.12703\n",
      "270 w = -21.41055, b = 34.33066 error = 93.10562\n",
      "275 w = -21.39602, b = 34.31513 error = 93.08447\n",
      "280 w = -21.38029, b = 34.29979 error = 93.06352\n",
      "285 w = -21.36349, b = 34.28463 error = 93.04275\n",
      "290 w = -21.34573, b = 34.26961 error = 93.02211\n",
      "295 w = -21.32711, b = 34.25474 error = 93.00158\n",
      "300 w = -21.30770, b = 34.23999 error = 92.98114\n",
      "305 w = -21.28760, b = 34.22534 error = 92.96078\n",
      "310 w = -21.26688, b = 34.21080 error = 92.94049\n",
      "315 w = -21.24560, b = 34.19635 error = 92.92024\n",
      "320 w = -21.22381, b = 34.18198 error = 92.90005\n",
      "325 w = -21.20157, b = 34.16768 error = 92.87989\n",
      "330 w = -21.17892, b = 34.15344 error = 92.85977\n",
      "335 w = -21.15591, b = 34.13926 error = 92.83969\n",
      "340 w = -21.13257, b = 34.12514 error = 92.81963\n",
      "345 w = -21.10895, b = 34.11106 error = 92.79960\n",
      "350 w = -21.08505, b = 34.09702 error = 92.77960\n",
      "355 w = -21.06092, b = 34.08302 error = 92.75962\n",
      "360 w = -21.03658, b = 34.06905 error = 92.73967\n",
      "365 w = -21.01205, b = 34.05512 error = 92.71974\n",
      "370 w = -20.98735, b = 34.04121 error = 92.69984\n",
      "375 w = -20.96249, b = 34.02732 error = 92.67996\n",
      "380 w = -20.93750, b = 34.01346 error = 92.66010\n",
      "385 w = -20.91239, b = 33.99962 error = 92.64027\n",
      "390 w = -20.88716, b = 33.98579 error = 92.62046\n",
      "395 w = -20.86183, b = 33.97198 error = 92.60068\n",
      "400 w = -20.83642, b = 33.95819 error = 92.58092\n",
      "405 w = -20.81092, b = 33.94440 error = 92.56118\n",
      "410 w = -20.78536, b = 33.93063 error = 92.54146\n",
      "415 w = -20.75972, b = 33.91687 error = 92.52177\n",
      "420 w = -20.73403, b = 33.90312 error = 92.50211\n",
      "425 w = -20.70829, b = 33.88938 error = 92.48247\n",
      "430 w = -20.68250, b = 33.87564 error = 92.46285\n",
      "435 w = -20.65667, b = 33.86191 error = 92.44325\n",
      "440 w = -20.63081, b = 33.84819 error = 92.42369\n",
      "445 w = -20.60491, b = 33.83447 error = 92.40414\n",
      "450 w = -20.57897, b = 33.82076 error = 92.38462\n",
      "455 w = -20.55302, b = 33.80705 error = 92.36512\n",
      "460 w = -20.52703, b = 33.79334 error = 92.34565\n",
      "465 w = -20.50103, b = 33.77964 error = 92.32620\n",
      "470 w = -20.47500, b = 33.76594 error = 92.30678\n",
      "475 w = -20.44896, b = 33.75225 error = 92.28738\n",
      "480 w = -20.42290, b = 33.73855 error = 92.26801\n",
      "485 w = -20.39683, b = 33.72486 error = 92.24866\n",
      "490 w = -20.37075, b = 33.71118 error = 92.22934\n",
      "495 w = -20.34465, b = 33.69749 error = 92.21004\n",
      "500 w = -20.31854, b = 33.68380 error = 92.19077\n",
      "505 w = -20.29243, b = 33.67012 error = 92.17152\n",
      "510 w = -20.26630, b = 33.65644 error = 92.15229\n",
      "515 w = -20.24017, b = 33.64275 error = 92.13309\n",
      "520 w = -20.21403, b = 33.62907 error = 92.11392\n",
      "525 w = -20.18789, b = 33.61540 error = 92.09477\n",
      "530 w = -20.16174, b = 33.60172 error = 92.07564\n",
      "535 w = -20.13559, b = 33.58804 error = 92.05654\n",
      "540 w = -20.10943, b = 33.57436 error = 92.03746\n",
      "545 w = -20.08326, b = 33.56069 error = 92.01841\n",
      "550 w = -20.05710, b = 33.54701 error = 91.99939\n",
      "555 w = -20.03093, b = 33.53333 error = 91.98039\n",
      "560 w = -20.00476, b = 33.51966 error = 91.96141\n",
      "565 w = -19.97858, b = 33.50598 error = 91.94246\n",
      "570 w = -19.95241, b = 33.49231 error = 91.92353\n",
      "575 w = -19.92623, b = 33.47864 error = 91.90463\n",
      "580 w = -19.90005, b = 33.46496 error = 91.88575\n",
      "585 w = -19.87387, b = 33.45129 error = 91.86690\n",
      "590 w = -19.84768, b = 33.43762 error = 91.84807\n",
      "595 w = -19.82150, b = 33.42394 error = 91.82927\n",
      "600 w = -19.79531, b = 33.41027 error = 91.81049\n",
      "605 w = -19.76912, b = 33.39660 error = 91.79174\n",
      "610 w = -19.74294, b = 33.38293 error = 91.77301\n",
      "615 w = -19.71675, b = 33.36925 error = 91.75431\n",
      "620 w = -19.69056, b = 33.35558 error = 91.73563\n",
      "625 w = -19.66437, b = 33.34191 error = 91.71697\n",
      "630 w = -19.63818, b = 33.32824 error = 91.69834\n",
      "635 w = -19.61198, b = 33.31457 error = 91.67974\n",
      "640 w = -19.58579, b = 33.30089 error = 91.66116\n",
      "645 w = -19.55960, b = 33.28722 error = 91.64261\n",
      "650 w = -19.53341, b = 33.27355 error = 91.62408\n",
      "655 w = -19.50721, b = 33.25988 error = 91.60557\n",
      "660 w = -19.48102, b = 33.24621 error = 91.58709\n",
      "665 w = -19.45483, b = 33.23254 error = 91.56864\n",
      "670 w = -19.42863, b = 33.21886 error = 91.55021\n",
      "675 w = -19.40244, b = 33.20519 error = 91.53180\n",
      "680 w = -19.37624, b = 33.19152 error = 91.51342\n",
      "685 w = -19.35005, b = 33.17785 error = 91.49507\n",
      "690 w = -19.32385, b = 33.16418 error = 91.47674\n",
      "695 w = -19.29766, b = 33.15051 error = 91.45843\n",
      "700 w = -19.27146, b = 33.13684 error = 91.44015\n",
      "705 w = -19.24527, b = 33.12316 error = 91.42189\n",
      "710 w = -19.21907, b = 33.10949 error = 91.40366\n",
      "715 w = -19.19288, b = 33.09582 error = 91.38545\n",
      "720 w = -19.16668, b = 33.08215 error = 91.36727\n",
      "725 w = -19.14049, b = 33.06848 error = 91.34911\n",
      "730 w = -19.11429, b = 33.05481 error = 91.33098\n",
      "735 w = -19.08809, b = 33.04114 error = 91.31288\n",
      "740 w = -19.06190, b = 33.02747 error = 91.29479\n",
      "745 w = -19.03570, b = 33.01380 error = 91.27674\n",
      "750 w = -19.00951, b = 33.00012 error = 91.25870\n",
      "755 w = -18.98331, b = 32.98645 error = 91.24069\n",
      "760 w = -18.95711, b = 32.97278 error = 91.22271\n",
      "765 w = -18.93092, b = 32.95911 error = 91.20475\n",
      "770 w = -18.90472, b = 32.94544 error = 91.18682\n",
      "775 w = -18.87853, b = 32.93177 error = 91.16891\n",
      "780 w = -18.85233, b = 32.91810 error = 91.15103\n",
      "785 w = -18.82613, b = 32.90443 error = 91.13317\n",
      "790 w = -18.79994, b = 32.89076 error = 91.11533\n",
      "795 w = -18.77374, b = 32.87708 error = 91.09752\n",
      "800 w = -18.74754, b = 32.86341 error = 91.07974\n",
      "805 w = -18.72135, b = 32.84974 error = 91.06198\n",
      "810 w = -18.69515, b = 32.83607 error = 91.04424\n",
      "815 w = -18.66896, b = 32.82240 error = 91.02653\n",
      "820 w = -18.64276, b = 32.80873 error = 91.00885\n",
      "825 w = -18.61656, b = 32.79506 error = 90.99119\n",
      "830 w = -18.59037, b = 32.78139 error = 90.97355\n",
      "835 w = -18.56417, b = 32.76772 error = 90.95594\n",
      "840 w = -18.53797, b = 32.75404 error = 90.93836\n",
      "845 w = -18.51178, b = 32.74037 error = 90.92079\n",
      "850 w = -18.48558, b = 32.72670 error = 90.90326\n",
      "855 w = -18.45938, b = 32.71303 error = 90.88575\n",
      "860 w = -18.43319, b = 32.69936 error = 90.86826\n",
      "865 w = -18.40699, b = 32.68569 error = 90.85080\n",
      "870 w = -18.38080, b = 32.67202 error = 90.83336\n",
      "875 w = -18.35460, b = 32.65835 error = 90.81595\n",
      "880 w = -18.32840, b = 32.64468 error = 90.79856\n",
      "885 w = -18.30221, b = 32.63100 error = 90.78120\n",
      "890 w = -18.27601, b = 32.61733 error = 90.76386\n",
      "895 w = -18.24981, b = 32.60366 error = 90.74655\n",
      "900 w = -18.22362, b = 32.58999 error = 90.72926\n",
      "905 w = -18.19742, b = 32.57632 error = 90.71200\n",
      "910 w = -18.17122, b = 32.56265 error = 90.69476\n",
      "915 w = -18.14503, b = 32.54898 error = 90.67755\n",
      "920 w = -18.11883, b = 32.53531 error = 90.66036\n",
      "925 w = -18.09264, b = 32.52164 error = 90.64319\n",
      "930 w = -18.06644, b = 32.50796 error = 90.62605\n",
      "935 w = -18.04024, b = 32.49429 error = 90.60894\n",
      "940 w = -18.01405, b = 32.48062 error = 90.59185\n",
      "945 w = -17.98785, b = 32.46695 error = 90.57478\n",
      "950 w = -17.96165, b = 32.45328 error = 90.55775\n",
      "955 w = -17.93546, b = 32.43961 error = 90.54073\n",
      "960 w = -17.90926, b = 32.42594 error = 90.52374\n",
      "965 w = -17.88306, b = 32.41227 error = 90.50677\n",
      "970 w = -17.85687, b = 32.39860 error = 90.48983\n",
      "975 w = -17.83067, b = 32.38492 error = 90.47292\n",
      "980 w = -17.80448, b = 32.37125 error = 90.45603\n",
      "985 w = -17.77828, b = 32.35758 error = 90.43916\n",
      "990 w = -17.75208, b = 32.34391 error = 90.42232\n",
      "995 w = -17.72589, b = 32.33024 error = 90.40550\n",
      "------------------------------------------------------------\n",
      "999 w = -17.70493, b = 32.31930 error = 90.39207\n"
     ]
    }
   ],
   "source": [
    "# gradient desent\n",
    "num_epoch = 1000\n",
    "errors = []\n",
    "\n",
    "# 학습률\n",
    "learning_rate = 0.005\n",
    "\n",
    "# 초기 w,b 랜덤 설정\n",
    "w = np.random.uniform(low=10.0, high=50.0)\n",
    "b = np.random.uniform(low=10.0, high=50.0)\n",
    "\n",
    "for epoch in range(num_epoch):\n",
    "    y_predict = predict(scale_x, w, b)\n",
    "    error = np.mean(((y_predict - y)**2))\n",
    "    if error < 0.0005:\n",
    "        break\n",
    "\n",
    "    w = w - learning_rate * ((y_predict - y) * x).mean()\n",
    "    b = b - learning_rate * (y_predict - y).mean() \n",
    "\n",
    "    errors.append(error)\n",
    "\n",
    "    if epoch % 5 == 0:\n",
    "        print(\"{0:2} w = {1:.5f}, b = {2:.5f} error = {3:.5f}\".format(epoch, w, b, error))\n",
    "\n",
    "print(\"----\" * 15)\n",
    "print(\"{0:2} w = {1:.5f}, b = {2:.5f} error = {3:.5f}\".format(epoch, w, b, error))"
   ]
  },
  {
   "cell_type": "code",
   "execution_count": 405,
   "metadata": {},
   "outputs": [
    {
     "data": {
      "text/plain": [
       "[<matplotlib.lines.Line2D at 0x240451e02b0>]"
      ]
     },
     "execution_count": 405,
     "metadata": {},
     "output_type": "execute_result"
    },
    {
     "data": {
      "image/png": "[encoded data removed]",
      "text/plain": [
       "<Figure size 640x480 with 1 Axes>"
      ]
     },
     "metadata": {},
     "output_type": "display_data"
    }
   ],
   "source": [
    "plt.scatter(scale_x, y)\n",
    "plt.plot(scale_x, predict(scale_x, w, b), color='red')"
   ]
  },
  {
   "attachments": {},
   "cell_type": "markdown",
   "metadata": {},
   "source": [
    "# Logistic Regression"
   ]
  },
  {
   "cell_type": "code",
   "execution_count": 368,
   "metadata": {},
   "outputs": [],
   "source": [
    "def log_odds(features, coefficients, intercept):\n",
    "  z = np.dot(features, coefficietns) + intercept\n",
    "  return z"
   ]
  },
  {
   "cell_type": "code",
   "execution_count": 369,
   "metadata": {},
   "outputs": [],
   "source": [
    "def sigmoid(z):\n",
    "  return 1 / (1 + np.exp(-z))"
   ]
  },
  {
   "cell_type": "code",
   "execution_count": 370,
   "metadata": {},
   "outputs": [],
   "source": [
    "def log_loss(y_pred, y_true):\n",
    "  y_true = np.array(y_true)\n",
    "  y_pred = np.array(y_pred)\n",
    "  log_loss = -1 * np.mean( y_true*np.log10(y_pred) + (1-y_true)*np.log10(1-y_pred)) \n",
    "  return log_loss"
   ]
  },
  {
   "cell_type": "code",
   "execution_count": 371,
   "metadata": {},
   "outputs": [],
   "source": [
    "def gradient_db(x, y, w, b):\n",
    "  db = y-sigmoid(np.dot(w.T,x)+b)\n",
    "  return db"
   ]
  },
  {
   "cell_type": "code",
   "execution_count": 372,
   "metadata": {},
   "outputs": [],
   "source": [
    "def gradient_dw(x, y, w, b, alpha, N):\n",
    "  dw = x * (y-sigmoid(np.dot(w.T,x)+b)) - ((alpha*w*w)/N)\n",
    "  return dw"
   ]
  },
  {
   "cell_type": "code",
   "execution_count": 373,
   "metadata": {},
   "outputs": [],
   "source": [
    "def predict_class(features, coefficients, intercept, threshold):\n",
    "  z = log_odds(features, coefficients, intercept)\n",
    "  a = sigmoid(z)\n",
    "\n",
    "  return np.where(a >= threshold, 1, 0)"
   ]
  },
  {
   "cell_type": "code",
   "execution_count": 374,
   "metadata": {},
   "outputs": [
    {
     "name": "stderr",
     "output_type": "stream",
     "text": [
      "C:\\Users\\AY\\AppData\\Local\\Temp\\ipykernel_17504\\3679002326.py:4: RuntimeWarning: divide by zero encountered in log10\n",
      "  log_loss = -1 * np.mean( y_true*np.log10(y_pred) + (1-y_true)*np.log10(1-y_pred))\n"
     ]
    }
   ],
   "source": [
    "from sklearn.datasets import make_classification\n",
    "from sklearn.model_selection import train_test_split\n",
    "\n",
    "# 데이터 생성\n",
    "X, y = make_classification(n_samples = 50000, n_features = 15, \n",
    "                    n_informative = 10, n_redundant = 5, \n",
    "                    n_classes = 2, weights = [0.7], \n",
    "                    class_sep = 0.7, random_state=15)\n",
    "\n",
    "# 데이터 split\n",
    "X_train, X_test, y_train, y_test = train_test_split(X, y, test_size=0.25, \n",
    "                                                    random_state = 15)\n",
    "\n",
    "# 데이터 정규화 \n",
    "scaler = StandardScaler()\n",
    "x_train_standard = scaler.fit_transform(X_train)\n",
    "x_test_standard = scaler.transform(X_test)\n",
    "\n",
    "# w, b 초기화\n",
    "w = np.zeros_like(X_train[0])\n",
    "b = 0\n",
    "\n",
    "# 학습률, 반복 설정\n",
    "alpha  = 0.0001\n",
    "eta0   = 0.0001\n",
    "epochs = 50\n",
    "\n",
    "N = len(X_train)\n",
    "log_loss_train = []\n",
    "log_loss_test = []\n",
    "\n",
    "for i in range(0, epochs):\n",
    "    for j in range(N):\n",
    "        grad_dw = gradient_dw(x_train_standard[j], y_train[j], w, b, alpha, N)\n",
    "        grad_db = gradient_db(x_train_standard[j], y_train[j], w, b)\n",
    "        w = np.array(w) + (eta0 * np.array(grad_dw))\n",
    "        b = b + (eta0 * grad_db)\n",
    "\n",
    "    predict_train = []\n",
    "    for m in range(len(y_train)):\n",
    "        z = np.dot(w, x_train_standard[m])+b\n",
    "        predict_train.append(sigmoid(z)) \n",
    "    \n",
    "    train_loss = log_loss(y_train, predict_train)\n",
    "\n",
    "    predict_test = []\n",
    "    for m in range(len(y_test)):\n",
    "        z = np.dot(w, x_test_standard[m])+b\n",
    "        predict_test.append(sigmoid(z))\n",
    "    \n",
    "    test_loss = log_loss(y_test, predict_test)\n",
    "\n",
    "\n",
    "    if log_loss_train and train_loss > log_loss_train[-1]: \n",
    "        break\n",
    "    \n",
    "    log_loss_train.append(train_loss)\n",
    "    log_loss_test.append(test_loss)"
   ]
  },
  {
   "cell_type": "code",
   "execution_count": 375,
   "metadata": {},
   "outputs": [
    {
     "name": "stdout",
     "output_type": "stream",
     "text": [
      "weight vector:  [-0.97125471  0.6951594  -0.1064887   0.68159065 -0.4447256   1.00799626\n",
      " -0.94341151 -0.07316669  0.44633501  0.47814799  0.27402291  0.06013621\n",
      " -0.09610527  0.57042941  0.06404642]\n",
      "Intercept:  -1.3691399553813899\n"
     ]
    }
   ],
   "source": [
    "print (\"weight vector: \", w)\n",
    "print (\"Intercept: \", b)"
   ]
  },
  {
   "cell_type": "code",
   "execution_count": 376,
   "metadata": {},
   "outputs": [
    {
     "name": "stdout",
     "output_type": "stream",
     "text": [
      "-- Epoch 1\n",
      "Norm: 0.70, NNZs: 15, Bias: -0.501317, T: 37500, Avg. loss: 0.552526\n",
      "Total training time: 0.01 seconds.\n",
      "-- Epoch 2\n",
      "Norm: 1.04, NNZs: 15, Bias: -0.752393, T: 75000, Avg. loss: 0.448021\n",
      "Total training time: 0.01 seconds.\n",
      "-- Epoch 3\n",
      "Norm: 1.26, NNZs: 15, Bias: -0.902742, T: 112500, Avg. loss: 0.415724\n",
      "Total training time: 0.02 seconds.\n",
      "-- Epoch 4\n",
      "Norm: 1.43, NNZs: 15, Bias: -1.003816, T: 150000, Avg. loss: 0.400895\n",
      "Total training time: 0.02 seconds.\n",
      "-- Epoch 5\n",
      "Norm: 1.55, NNZs: 15, Bias: -1.076296, T: 187500, Avg. loss: 0.392879\n",
      "Total training time: 0.03 seconds.\n",
      "-- Epoch 6\n",
      "Norm: 1.65, NNZs: 15, Bias: -1.131077, T: 225000, Avg. loss: 0.388094\n",
      "Total training time: 0.03 seconds.\n",
      "-- Epoch 7\n",
      "Norm: 1.73, NNZs: 15, Bias: -1.171791, T: 262500, Avg. loss: 0.385077\n",
      "Total training time: 0.03 seconds.\n",
      "-- Epoch 8\n",
      "Norm: 1.80, NNZs: 15, Bias: -1.203840, T: 300000, Avg. loss: 0.383074\n",
      "Total training time: 0.04 seconds.\n",
      "-- Epoch 9\n",
      "Norm: 1.86, NNZs: 15, Bias: -1.229563, T: 337500, Avg. loss: 0.381703\n",
      "Total training time: 0.04 seconds.\n",
      "-- Epoch 10\n",
      "Norm: 1.90, NNZs: 15, Bias: -1.251245, T: 375000, Avg. loss: 0.380763\n",
      "Total training time: 0.05 seconds.\n",
      "-- Epoch 11\n",
      "Norm: 1.94, NNZs: 15, Bias: -1.269044, T: 412500, Avg. loss: 0.380084\n",
      "Total training time: 0.05 seconds.\n",
      "-- Epoch 12\n",
      "Norm: 1.98, NNZs: 15, Bias: -1.282485, T: 450000, Avg. loss: 0.379607\n",
      "Total training time: 0.05 seconds.\n",
      "-- Epoch 13\n",
      "Norm: 2.01, NNZs: 15, Bias: -1.294386, T: 487500, Avg. loss: 0.379251\n",
      "Total training time: 0.06 seconds.\n",
      "-- Epoch 14\n",
      "Norm: 2.03, NNZs: 15, Bias: -1.305805, T: 525000, Avg. loss: 0.378992\n",
      "Total training time: 0.06 seconds.\n",
      "Convergence after 14 epochs took 0.06 seconds\n"
     ]
    },
    {
     "data": {
      "text/plain": [
       "(array([[-0.89007184,  0.63162363, -0.07594145,  0.63107107, -0.38434375,\n",
       "          0.93235243, -0.89573521, -0.07340522,  0.40591417,  0.4199991 ,\n",
       "          0.24722143,  0.05046199, -0.08877987,  0.54081652,  0.06643888]]),\n",
       " array([-1.30580538]))"
      ]
     },
     "execution_count": 376,
     "metadata": {},
     "output_type": "execute_result"
    }
   ],
   "source": [
    "from sklearn.linear_model import SGDClassifier\n",
    "\n",
    "clf = SGDClassifier(eta0 = 0.0001, loss='log', alpha=0.0001, \n",
    "              random_state=15, penalty='l2', tol=1e-3, \n",
    "              verbose=2, learning_rate='constant')\n",
    "clf.fit(x_train_standard, y_train)\n",
    "clf.coef_, clf.intercept_ "
   ]
  },
  {
   "attachments": {},
   "cell_type": "markdown",
   "metadata": {},
   "source": [
    "# L1 regularization"
   ]
  },
  {
   "attachments": {},
   "cell_type": "markdown",
   "metadata": {},
   "source": [
    "# Logistic Regression"
   ]
  },
  {
   "cell_type": "code",
   "execution_count": 314,
   "metadata": {},
   "outputs": [],
   "source": [
    "def log_odds(features, coefficients, intercept):\n",
    "  z = np.dot(features, coefficietns) + intercept\n",
    "  return z"
   ]
  },
  {
   "cell_type": "code",
   "execution_count": 315,
   "metadata": {},
   "outputs": [],
   "source": [
    "def sigmoid(z):\n",
    "  return 1 / (1 + np.exp(-z))"
   ]
  },
  {
   "cell_type": "code",
   "execution_count": 341,
   "metadata": {},
   "outputs": [],
   "source": [
    "def log_loss(y_pred, y_true):\n",
    "  y_true = np.array(y_true)\n",
    "  y_pred = np.array(y_pred)\n",
    "  log_loss = -1 * np.mean( y_true*np.log10(y_pred) + (1-y_true)*np.log10(1-y_pred)) \n",
    "  return log_loss"
   ]
  },
  {
   "cell_type": "code",
   "execution_count": 342,
   "metadata": {},
   "outputs": [],
   "source": [
    "def gradient_db(x, y, w, b):\n",
    "  db = y-sigmoid(np.dot(w.T,x)+b)\n",
    "  return db"
   ]
  },
  {
   "cell_type": "code",
   "execution_count": 343,
   "metadata": {},
   "outputs": [],
   "source": [
    "def gradient_dw(x, y, w, b, alpha, N):\n",
    "  dw = x * (y-sigmoid(np.dot(w.T,x)+b)) - ((alpha*w*w)/N)\n",
    "  return dw"
   ]
  },
  {
   "cell_type": "code",
   "execution_count": 344,
   "metadata": {},
   "outputs": [],
   "source": [
    "def predict_class(features, coefficients, intercept, threshold):\n",
    "  z = log_odds(features, coefficients, intercept)\n",
    "  a = sigmoid(z)\n",
    "\n",
    "  return np.where(a >= threshold, 1, 0)"
   ]
  },
  {
   "cell_type": "code",
   "execution_count": 351,
   "metadata": {},
   "outputs": [
    {
     "name": "stderr",
     "output_type": "stream",
     "text": [
      "C:\\Users\\AY\\AppData\\Local\\Temp\\ipykernel_17504\\3679002326.py:4: RuntimeWarning: divide by zero encountered in log10\n",
      "  log_loss = -1 * np.mean( y_true*np.log10(y_pred) + (1-y_true)*np.log10(1-y_pred))\n"
     ]
    }
   ],
   "source": [
    "from sklearn.datasets import make_classification\n",
    "from sklearn.model_selection import train_test_split\n",
    "from sklearn.preprocessing import StandardScaler\n",
    "\n",
    "# 데이터 생성\n",
    "X, y = make_classification(n_samples = 50000, n_features = 15, \n",
    "                    n_informative = 10, n_redundant = 5, \n",
    "                    n_classes = 2, weights = [0.7], \n",
    "                    class_sep = 0.7, random_state=15)\n",
    "\n",
    "# 데이터 split\n",
    "X_train, X_test, y_train, y_test = train_test_split(X, y, test_size=0.25, \n",
    "                                                    random_state = 15)\n",
    "\n",
    "# 데이터 정규화 \n",
    "scaler = StandardScaler()\n",
    "x_train_standard = scaler.fit_transform(X_train)\n",
    "x_test_standard = scaler.transform(X_test)\n",
    "\n",
    "# w, b 초기화\n",
    "w = np.zeros_like(X_train[0])\n",
    "b = 0\n",
    "\n",
    "# 학습률, 반복 설정\n",
    "alpha  = 0.0001\n",
    "eta0   = 0.0001\n",
    "epochs = 50\n",
    "\n",
    "N = len(X_train)\n",
    "log_loss_train = []\n",
    "log_loss_test = []\n",
    "\n",
    "for i in range(0, epochs):\n",
    "    for j in range(N):\n",
    "        grad_dw = gradient_dw(x_train_standard[j], y_train[j], w, b, alpha, N)\n",
    "        grad_db = gradient_db(x_train_standard[j], y_train[j], w, b)\n",
    "        w = np.array(w) + (eta0 * np.array(grad_dw))\n",
    "        b = b + (eta0 * grad_db)\n",
    "\n",
    "    predict_train = []\n",
    "    for m in range(len(y_train)):\n",
    "        z = np.dot(w, x_train_standard[m])+b\n",
    "        predict_train.append(sigmoid(z)) \n",
    "    \n",
    "    train_loss = log_loss(y_train, predict_train)\n",
    "\n",
    "    predict_test = []\n",
    "    for m in range(len(y_test)):\n",
    "        z = np.dot(w, x_test_standard[m])+b\n",
    "        predict_test.append(sigmoid(z))\n",
    "    \n",
    "    test_loss = log_loss(y_test, predict_test)\n",
    "\n",
    "\n",
    "    if log_loss_train and train_loss > log_loss_train[-1]: \n",
    "        break\n",
    "    \n",
    "    log_loss_train.append(train_loss)\n",
    "    log_loss_test.append(test_loss)"
   ]
  },
  {
   "cell_type": "code",
   "execution_count": 352,
   "metadata": {},
   "outputs": [
    {
     "name": "stdout",
     "output_type": "stream",
     "text": [
      "weight vector:  [-0.97125471  0.6951594  -0.1064887   0.68159065 -0.4447256   1.00799626\n",
      " -0.94341151 -0.07316669  0.44633501  0.47814799  0.27402291  0.06013621\n",
      " -0.09610527  0.57042941  0.06404642]\n",
      "Intercept:  -1.3691399553813899\n"
     ]
    }
   ],
   "source": [
    "print (\"weight vector: \", w)\n",
    "print (\"Intercept: \", b)"
   ]
  },
  {
   "cell_type": "code",
   "execution_count": 353,
   "metadata": {},
   "outputs": [
    {
     "name": "stdout",
     "output_type": "stream",
     "text": [
      "-- Epoch 1\n",
      "Norm: 0.70, NNZs: 15, Bias: -0.501317, T: 37500, Avg. loss: 0.552526\n",
      "Total training time: 0.01 seconds.\n",
      "-- Epoch 2\n",
      "Norm: 1.04, NNZs: 15, Bias: -0.752393, T: 75000, Avg. loss: 0.448021\n",
      "Total training time: 0.01 seconds.\n",
      "-- Epoch 3\n",
      "Norm: 1.26, NNZs: 15, Bias: -0.902742, T: 112500, Avg. loss: 0.415724\n",
      "Total training time: 0.02 seconds.\n",
      "-- Epoch 4\n",
      "Norm: 1.43, NNZs: 15, Bias: -1.003816, T: 150000, Avg. loss: 0.400895\n",
      "Total training time: 0.02 seconds.\n",
      "-- Epoch 5\n",
      "Norm: 1.55, NNZs: 15, Bias: -1.076296, T: 187500, Avg. loss: 0.392879\n",
      "Total training time: 0.02 seconds.\n",
      "-- Epoch 6\n",
      "Norm: 1.65, NNZs: 15, Bias: -1.131077, T: 225000, Avg. loss: 0.388094\n",
      "Total training time: 0.03 seconds.\n",
      "-- Epoch 7\n",
      "Norm: 1.73, NNZs: 15, Bias: -1.171791, T: 262500, Avg. loss: 0.385077\n",
      "Total training time: 0.03 seconds.\n",
      "-- Epoch 8\n",
      "Norm: 1.80, NNZs: 15, Bias: -1.203840, T: 300000, Avg. loss: 0.383074\n",
      "Total training time: 0.03 seconds.\n",
      "-- Epoch 9\n",
      "Norm: 1.86, NNZs: 15, Bias: -1.229563, T: 337500, Avg. loss: 0.381703\n",
      "Total training time: 0.04 seconds.\n",
      "-- Epoch 10\n",
      "Norm: 1.90, NNZs: 15, Bias: -1.251245, T: 375000, Avg. loss: 0.380763\n",
      "Total training time: 0.04 seconds.\n",
      "-- Epoch 11\n",
      "Norm: 1.94, NNZs: 15, Bias: -1.269044, T: 412500, Avg. loss: 0.380084\n",
      "Total training time: 0.05 seconds.\n",
      "-- Epoch 12\n",
      "Norm: 1.98, NNZs: 15, Bias: -1.282485, T: 450000, Avg. loss: 0.379607\n",
      "Total training time: 0.05 seconds.\n",
      "-- Epoch 13\n",
      "Norm: 2.01, NNZs: 15, Bias: -1.294386, T: 487500, Avg. loss: 0.379251\n",
      "Total training time: 0.05 seconds.\n",
      "-- Epoch 14\n",
      "Norm: 2.03, NNZs: 15, Bias: -1.305805, T: 525000, Avg. loss: 0.378992\n",
      "Total training time: 0.06 seconds.\n",
      "Convergence after 14 epochs took 0.06 seconds\n"
     ]
    },
    {
     "data": {
      "text/plain": [
       "(array([[-0.89007184,  0.63162363, -0.07594145,  0.63107107, -0.38434375,\n",
       "          0.93235243, -0.89573521, -0.07340522,  0.40591417,  0.4199991 ,\n",
       "          0.24722143,  0.05046199, -0.08877987,  0.54081652,  0.06643888]]),\n",
       " array([-1.30580538]))"
      ]
     },
     "execution_count": 353,
     "metadata": {},
     "output_type": "execute_result"
    }
   ],
   "source": [
    "from sklearn.linear_model import SGDClassifier\n",
    "\n",
    "clf = SGDClassifier(eta0 = 0.0001, loss='log', alpha=0.0001, \n",
    "              random_state=15, penalty='l2', tol=1e-3, \n",
    "              verbose=2, learning_rate='constant')\n",
    "clf.fit(x_train_standard, y_train)\n",
    "clf.coef_, clf.intercept_ "
   ]
  },
  {
   "cell_type": "code",
   "execution_count": null,
   "metadata": {},
   "outputs": [],
   "source": [
    "# gradient desent\n",
    "num_epoch = 1000\n",
    "errors = []\n",
    "\n",
    "# 학습률\n",
    "learning_rate = 0.005\n",
    "\n",
    "# 초기 w,b 랜덤 설정\n",
    "w = np.random.uniform(low=10.0, high=50.0)\n",
    "b = np.random.uniform(low=10.0, high=50.0)\n",
    "\n",
    "for epoch in range(num_epoch):\n",
    "    y_predict = predict(scale_x, w, b)\n",
    "    error = np.mean(((y_predict - y)**2))\n",
    "    if error < 0.0005:\n",
    "        break\n",
    "\n",
    "    w = w - learning_rate * ((y_predict - y) * x).mean()\n",
    "    b = b - learning_rate * (y_predict - y).mean() \n",
    "\n",
    "    errors.append(error)\n",
    "\n",
    "    if epoch % 5 == 0:\n",
    "        print(\"{0:2} w = {1:.5f}, b = {2:.5f} error = {3:.5f}\".format(epoch, w, b, error))\n",
    "\n",
    "print(\"----\" * 15)\n",
    "print(\"{0:2} w = {1:.5f}, b = {2:.5f} error = {3:.5f}\".format(epoch, w, b, error))"
   ]
  }
 ],
 "metadata": {
  "kernelspec": {
   "display_name": "base",
   "language": "python",
   "name": "python3"
  },
  "language_info": {
   "codemirror_mode": {
    "name": "ipython",
    "version": 3
   },
   "file_extension": ".py",
   "mimetype": "text/x-python",
   "name": "python",
   "nbconvert_exporter": "python",
   "pygments_lexer": "ipython3",
   "version": "3.9.13"
  },
  "orig_nbformat": 4,
  "vscode": {
   "interpreter": {
    "hash": "3c73bdefccaf48e728a83183c4b62184225f554a39082c36ad770ba68b989c4f"
   }
  }
 },
 "nbformat": 4,
 "nbformat_minor": 2
}
