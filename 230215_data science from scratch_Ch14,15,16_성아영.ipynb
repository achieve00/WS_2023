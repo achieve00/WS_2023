{
 "cells": [
  {
   "cell_type": "code",
   "execution_count": 8,
   "metadata": {},
   "outputs": [
    {
     "name": "stderr",
     "output_type": "stream",
     "text": [
      "c:\\Users\\AY\\anaconda3\\lib\\site-packages\\sklearn\\utils\\deprecation.py:87: FutureWarning: Function load_boston is deprecated; `load_boston` is deprecated in 1.0 and will be removed in 1.2.\n",
      "\n",
      "    The Boston housing prices dataset has an ethical problem. You can refer to\n",
      "    the documentation of this function for further details.\n",
      "\n",
      "    The scikit-learn maintainers therefore strongly discourage the use of this\n",
      "    dataset unless the purpose of the code is to study and educate about\n",
      "    ethical issues in data science and machine learning.\n",
      "\n",
      "    In this special case, you can fetch the dataset from the original\n",
      "    source::\n",
      "\n",
      "        import pandas as pd\n",
      "        import numpy as np\n",
      "\n",
      "\n",
      "        data_url = \"http://lib.stat.cmu.edu/datasets/boston\"\n",
      "        raw_df = pd.read_csv(data_url, sep=\"\\s+\", skiprows=22, header=None)\n",
      "        data = np.hstack([raw_df.values[::2, :], raw_df.values[1::2, :2]])\n",
      "        target = raw_df.values[1::2, 2]\n",
      "\n",
      "    Alternative datasets include the California housing dataset (i.e.\n",
      "    :func:`~sklearn.datasets.fetch_california_housing`) and the Ames housing\n",
      "    dataset. You can load the datasets as follows::\n",
      "\n",
      "        from sklearn.datasets import fetch_california_housing\n",
      "        housing = fetch_california_housing()\n",
      "\n",
      "    for the California housing dataset and::\n",
      "\n",
      "        from sklearn.datasets import fetch_openml\n",
      "        housing = fetch_openml(name=\"house_prices\", as_frame=True)\n",
      "\n",
      "    for the Ames housing dataset.\n",
      "    \n",
      "  warnings.warn(msg, category=FutureWarning)\n"
     ]
    }
   ],
   "source": [
    "import numpy as np\n",
    "import pandas as pd\n",
    "import matplotlib.pyplot as plt\n",
    "from sklearn.datasets import load_boston\n",
    "from sklearn.preprocessing import StandardScaler\n",
    "from sklearn.preprocessing import MinMaxScaler\n",
    "%matplotlib inline\n",
    "\n",
    "boston = load_boston()\n",
    "df = pd.DataFrame(boston.data, columns=boston.feature_names)\n",
    "df['target'] = boston.target\n",
    "\n",
    "x = np.array(df['RM'])\n",
    "y = np.array(df['target'])\n",
    "\n",
    "scaler = MinMaxScaler()\n",
    "scale_x = scaler.fit_transform(x.reshape(-1, 1))\n"
   ]
  },
  {
   "cell_type": "code",
   "execution_count": 386,
   "metadata": {},
   "outputs": [],
   "source": [
    "def least_squares_fit(x, y):\n",
    "    w = np.corrcoef(x, y) * np.std(y) / np.std(x)\n",
    "    b = np.mean(y) - w * np.mean(x)\n",
    "    return w, b"
   ]
  },
  {
   "cell_type": "code",
   "execution_count": 387,
   "metadata": {},
   "outputs": [],
   "source": [
    "def predict(x, w, b)-> float:\n",
    "    return x * w + b"
   ]
  },
  {
   "cell_type": "code",
   "execution_count": 388,
   "metadata": {},
   "outputs": [],
   "source": [
    "def MSE(x, w, b, y)-> float:\n",
    "    error = (y - predict(x, w, b))**2 / len(y)\n",
    "    return error"
   ]
  },
  {
   "cell_type": "code",
   "execution_count": 389,
   "metadata": {},
   "outputs": [],
   "source": [
    "def cost_function(x, w, b, y)-> float:\n",
    "    error = MSE(x, w, b, y)\n",
    "    return 1 / 2 * error"
   ]
  },
  {
   "cell_type": "code",
   "execution_count": 528,
   "metadata": {},
   "outputs": [
    {
     "name": "stdout",
     "output_type": "stream",
     "text": [
      " 0 w = 7.76495, b = -13.80511 error = 482.17422\n",
      " 5 w = 6.00657, b = -14.09420 error = 51.03097\n",
      "10 w = 5.88242, b = -14.12638 error = 48.81261\n",
      "15 w = 5.87533, b = -14.14015 error = 48.79501\n",
      "20 w = 5.87662, b = -14.15259 error = 48.78871\n",
      "25 w = 5.87851, b = -14.16493 error = 48.78247\n",
      "30 w = 5.88045, b = -14.17725 error = 48.77625\n",
      "35 w = 5.88238, b = -14.18957 error = 48.77003\n",
      "40 w = 5.88432, b = -14.20188 error = 48.76381\n",
      "45 w = 5.88625, b = -14.21418 error = 48.75761\n",
      "50 w = 5.88819, b = -14.22648 error = 48.75141\n",
      "55 w = 5.89012, b = -14.23876 error = 48.74522\n",
      "60 w = 5.89205, b = -14.25104 error = 48.73904\n",
      "65 w = 5.89398, b = -14.26332 error = 48.73286\n",
      "70 w = 5.89591, b = -14.27558 error = 48.72670\n",
      "75 w = 5.89783, b = -14.28784 error = 48.72054\n",
      "80 w = 5.89976, b = -14.30009 error = 48.71438\n",
      "85 w = 5.90168, b = -14.31234 error = 48.70824\n",
      "90 w = 5.90361, b = -14.32457 error = 48.70210\n",
      "95 w = 5.90553, b = -14.33680 error = 48.69597\n",
      "------------------------------------------------------------\n",
      "99 w = 5.90707, b = -14.34658 error = 48.69107\n"
     ]
    }
   ],
   "source": [
    "# gradient desent\n",
    "num_epoch = 100\n",
    "errors = []\n",
    "\n",
    "# 학습률\n",
    "learning_rate = 0.01\n",
    "\n",
    "# 초기 w,b 랜덤 설정\n",
    "w = np.random.uniform(low=9.0, high=10.0)\n",
    "b = np.random.uniform(low=-40.0, high=-10.0)\n",
    "\n",
    "for epoch in range(num_epoch):\n",
    "    y_predict = predict(x, w, b)\n",
    "    error = np.mean(((y_predict - y)**2))\n",
    "    if error < 0.0005:\n",
    "        break\n",
    "\n",
    "    w = w - learning_rate * ((y_predict - y) * x).mean()\n",
    "    b = b - learning_rate * (y_predict - y).mean() \n",
    "\n",
    "    errors.append(error)\n",
    "\n",
    "    if epoch % 5 == 0:\n",
    "        print(\"{0:2} w = {1:.5f}, b = {2:.5f} error = {3:.5f}\".format(epoch, w, b, error))\n",
    "\n",
    "print(\"----\" * 15)\n",
    "print(\"{0:2} w = {1:.5f}, b = {2:.5f} error = {3:.5f}\".format(epoch, w, b, error))"
   ]
  },
  {
   "cell_type": "code",
   "execution_count": 427,
   "metadata": {},
   "outputs": [
    {
     "data": {
      "text/plain": [
       "[<matplotlib.lines.Line2D at 0x24045bf4d30>]"
      ]
     },
     "execution_count": 427,
     "metadata": {},
     "output_type": "execute_result"
    },
    {
     "data": {
      "image/png": "[encoded data removed]",
      "text/plain": [
       "<Figure size 640x480 with 1 Axes>"
      ]
     },
     "metadata": {},
     "output_type": "display_data"
    }
   ],
   "source": [
    "plt.scatter(x, y)\n",
    "plt.plot(x, predict(x, w, b), color='red')"
   ]
  },
  {
   "attachments": {},
   "cell_type": "markdown",
   "metadata": {},
   "source": [
    "# Logistic Regression"
   ]
  },
  {
   "cell_type": "code",
   "execution_count": 9,
   "metadata": {},
   "outputs": [],
   "source": [
    "def log_odds(features, coefficients, intercept):\n",
    "  z = np.dot(features, coefficients) + intercept\n",
    "  return z"
   ]
  },
  {
   "cell_type": "code",
   "execution_count": 10,
   "metadata": {},
   "outputs": [],
   "source": [
    "def sigmoid(z):\n",
    "  return 1 / (1 + np.exp(-z))"
   ]
  },
  {
   "cell_type": "code",
   "execution_count": 11,
   "metadata": {},
   "outputs": [],
   "source": [
    "def log_loss(y_pred, y_true):\n",
    "  y_true = np.array(y_true)\n",
    "  y_pred = np.array(y_pred)\n",
    "  log_loss = -1 * np.mean( y_true*np.log10(y_pred) \\\n",
    "                          + (1-y_true)*np.log10(1-y_pred)) \n",
    "  return log_loss"
   ]
  },
  {
   "cell_type": "code",
   "execution_count": 12,
   "metadata": {},
   "outputs": [],
   "source": [
    "def gradient_db(x, y, w, b):\n",
    "  db = y-sigmoid(np.dot(w.T,x)+b)\n",
    "  return db"
   ]
  },
  {
   "cell_type": "code",
   "execution_count": 13,
   "metadata": {},
   "outputs": [],
   "source": [
    "def gradient_dw(x, y, w, b, alpha, N):\n",
    "  dw = x * (y-sigmoid(np.dot(w.T,x)+b)) - ((alpha*w*w)/N)\n",
    "  return dw"
   ]
  },
  {
   "cell_type": "code",
   "execution_count": 14,
   "metadata": {},
   "outputs": [],
   "source": [
    "def predict_class(features, coefficients, intercept, threshold):\n",
    "  z = log_odds(features, coefficients, intercept)\n",
    "  a = sigmoid(z)\n",
    "\n",
    "  return np.where(a >= threshold, 1, 0)"
   ]
  },
  {
   "cell_type": "code",
   "execution_count": 15,
   "metadata": {},
   "outputs": [
    {
     "name": "stderr",
     "output_type": "stream",
     "text": [
      "C:\\Users\\AY\\AppData\\Local\\Temp\\ipykernel_19524\\3395817780.py:4: RuntimeWarning: divide by zero encountered in log10\n",
      "  log_loss = -1 * np.mean( y_true*np.log10(y_pred) \\\n",
      "C:\\Users\\AY\\AppData\\Local\\Temp\\ipykernel_19524\\3395817780.py:5: RuntimeWarning: divide by zero encountered in log10\n",
      "  + (1-y_true)*np.log10(1-y_pred))\n"
     ]
    }
   ],
   "source": [
    "from sklearn.datasets import make_classification\n",
    "from sklearn.model_selection import train_test_split\n",
    "\n",
    "# 데이터 생성\n",
    "X, y = make_classification(n_samples = 50000, n_features = 15, \n",
    "                    n_informative = 10, n_redundant = 5, \n",
    "                    n_classes = 2, weights = [0.7], \n",
    "                    class_sep = 0.7, random_state=15)\n",
    "\n",
    "# 데이터 split\n",
    "X_train, X_test, y_train, y_test = train_test_split(X, y, test_size=0.25, \n",
    "                                                    random_state = 15)\n",
    "\n",
    "# 데이터 정규화 \n",
    "scaler = StandardScaler()\n",
    "x_train_standard = scaler.fit_transform(X_train)\n",
    "x_test_standard = scaler.transform(X_test)\n",
    "\n",
    "# w, b 초기화\n",
    "w = np.zeros_like(X_train[0])\n",
    "b = 0\n",
    "\n",
    "# 학습률, 반복 설정\n",
    "alpha  = 0.0001\n",
    "eta0   = 0.0001\n",
    "epochs = 50\n",
    "\n",
    "N = len(X_train)\n",
    "log_loss_train = []\n",
    "log_loss_test = []\n",
    "\n",
    "for i in range(0, epochs):\n",
    "    for j in range(N):\n",
    "        grad_dw = gradient_dw(x_train_standard[j], y_train[j], w, b, alpha, N)\n",
    "        grad_db = gradient_db(x_train_standard[j], y_train[j], w, b)\n",
    "        w = np.array(w) + (eta0 * np.array(grad_dw))\n",
    "        b = b + (eta0 * grad_db)\n",
    "\n",
    "    predict_train = []\n",
    "    for m in range(len(y_train)):\n",
    "        z = np.dot(w, x_train_standard[m])+b\n",
    "        predict_train.append(sigmoid(z)) \n",
    "    \n",
    "    train_loss = log_loss(y_train, predict_train)\n",
    "\n",
    "    predict_test = []\n",
    "    for m in range(len(y_test)):\n",
    "        z = np.dot(w, x_test_standard[m])+b\n",
    "        predict_test.append(sigmoid(z))\n",
    "    \n",
    "    test_loss = log_loss(y_test, predict_test)\n",
    "\n",
    "\n",
    "    if log_loss_train and train_loss > log_loss_train[-1]: \n",
    "        break\n",
    "    \n",
    "    log_loss_train.append(train_loss)\n",
    "    log_loss_test.append(test_loss)"
   ]
  },
  {
   "cell_type": "code",
   "execution_count": 16,
   "metadata": {},
   "outputs": [
    {
     "name": "stdout",
     "output_type": "stream",
     "text": [
      "weight vector:  [-0.97125471  0.6951594  -0.1064887   0.68159065 -0.4447256   1.00799626\n",
      " -0.94341151 -0.07316669  0.44633501  0.47814799  0.27402291  0.06013621\n",
      " -0.09610527  0.57042941  0.06404642]\n",
      "Intercept:  -1.3691399553813899\n"
     ]
    }
   ],
   "source": [
    "print (\"weight vector: \", w)\n",
    "print (\"Intercept: \", b)"
   ]
  },
  {
   "cell_type": "code",
   "execution_count": 17,
   "metadata": {},
   "outputs": [
    {
     "name": "stdout",
     "output_type": "stream",
     "text": [
      "-- Epoch 1\n",
      "Norm: 0.70, NNZs: 15, Bias: -0.501317, T: 37500, Avg. loss: 0.552526\n",
      "Total training time: 0.01 seconds.\n",
      "-- Epoch 2\n",
      "Norm: 1.04, NNZs: 15, Bias: -0.752393, T: 75000, Avg. loss: 0.448021\n",
      "Total training time: 0.01 seconds.\n",
      "-- Epoch 3\n",
      "Norm: 1.26, NNZs: 15, Bias: -0.902742, T: 112500, Avg. loss: 0.415724\n",
      "Total training time: 0.02 seconds.\n",
      "-- Epoch 4\n",
      "Norm: 1.43, NNZs: 15, Bias: -1.003816, T: 150000, Avg. loss: 0.400895\n",
      "Total training time: 0.02 seconds.\n",
      "-- Epoch 5\n",
      "Norm: 1.55, NNZs: 15, Bias: -1.076296, T: 187500, Avg. loss: 0.392879\n",
      "Total training time: 0.03 seconds.\n",
      "-- Epoch 6\n",
      "Norm: 1.65, NNZs: 15, Bias: -1.131077, T: 225000, Avg. loss: 0.388094\n",
      "Total training time: 0.03 seconds.\n",
      "-- Epoch 7\n",
      "Norm: 1.73, NNZs: 15, Bias: -1.171791, T: 262500, Avg. loss: 0.385077\n",
      "Total training time: 0.04 seconds.\n",
      "-- Epoch 8\n",
      "Norm: 1.80, NNZs: 15, Bias: -1.203840, T: 300000, Avg. loss: 0.383074\n",
      "Total training time: 0.04 seconds.\n",
      "-- Epoch 9\n",
      "Norm: 1.86, NNZs: 15, Bias: -1.229563, T: 337500, Avg. loss: 0.381703\n",
      "Total training time: 0.05 seconds.\n",
      "-- Epoch 10\n",
      "Norm: 1.90, NNZs: 15, Bias: -1.251245, T: 375000, Avg. loss: 0.380763\n",
      "Total training time: 0.06 seconds.\n",
      "-- Epoch 11\n",
      "Norm: 1.94, NNZs: 15, Bias: -1.269044, T: 412500, Avg. loss: 0.380084\n",
      "Total training time: 0.06 seconds.\n",
      "-- Epoch 12\n",
      "Norm: 1.98, NNZs: 15, Bias: -1.282485, T: 450000, Avg. loss: 0.379607\n",
      "Total training time: 0.07 seconds.\n",
      "-- Epoch 13\n",
      "Norm: 2.01, NNZs: 15, Bias: -1.294386, T: 487500, Avg. loss: 0.379251\n",
      "Total training time: 0.07 seconds.\n",
      "-- Epoch 14\n",
      "Norm: 2.03, NNZs: 15, Bias: -1.305805, T: 525000, Avg. loss: 0.378992\n",
      "Total training time: 0.08 seconds.\n",
      "Convergence after 14 epochs took 0.08 seconds\n"
     ]
    },
    {
     "data": {
      "text/plain": [
       "(array([[-0.89007184,  0.63162363, -0.07594145,  0.63107107, -0.38434375,\n",
       "          0.93235243, -0.89573521, -0.07340522,  0.40591417,  0.4199991 ,\n",
       "          0.24722143,  0.05046199, -0.08877987,  0.54081652,  0.06643888]]),\n",
       " array([-1.30580538]))"
      ]
     },
     "execution_count": 17,
     "metadata": {},
     "output_type": "execute_result"
    }
   ],
   "source": [
    "from sklearn.linear_model import SGDClassifier\n",
    "\n",
    "clf = SGDClassifier(eta0 = 0.0001, loss='log', alpha=0.0001, \n",
    "              random_state=15, penalty='l2', tol=1e-3, \n",
    "              verbose=2, learning_rate='constant')\n",
    "clf.fit(x_train_standard, y_train)\n",
    "clf.coef_, clf.intercept_ "
   ]
  },
  {
   "attachments": {},
   "cell_type": "markdown",
   "metadata": {},
   "source": [
    "# L1 regularization"
   ]
  },
  {
   "attachments": {},
   "cell_type": "markdown",
   "metadata": {},
   "source": [
    "# Logistic Regression"
   ]
  },
  {
   "cell_type": "code",
   "execution_count": 314,
   "metadata": {},
   "outputs": [],
   "source": [
    "def log_odds(features, coefficients, intercept):\n",
    "  z = np.dot(features, coefficietns) + intercept\n",
    "  return z"
   ]
  },
  {
   "cell_type": "code",
   "execution_count": 315,
   "metadata": {},
   "outputs": [],
   "source": [
    "def sigmoid(z):\n",
    "  return 1 / (1 + np.exp(-z))"
   ]
  },
  {
   "cell_type": "code",
   "execution_count": 341,
   "metadata": {},
   "outputs": [],
   "source": [
    "def log_loss(y_pred, y_true):\n",
    "  y_true = np.array(y_true)\n",
    "  y_pred = np.array(y_pred)\n",
    "  log_loss = -1 * np.mean( y_true*np.log10(y_pred) + (1-y_true)*np.log10(1-y_pred)) \n",
    "  return log_loss"
   ]
  },
  {
   "cell_type": "code",
   "execution_count": 342,
   "metadata": {},
   "outputs": [],
   "source": [
    "def gradient_db(x, y, w, b):\n",
    "  db = y-sigmoid(np.dot(w.T,x)+b)\n",
    "  return db"
   ]
  },
  {
   "cell_type": "code",
   "execution_count": 343,
   "metadata": {},
   "outputs": [],
   "source": [
    "def gradient_dw(x, y, w, b, alpha, N):\n",
    "  dw = x * (y-sigmoid(np.dot(w.T,x)+b)) - ((alpha*w*w)/N)\n",
    "  return dw"
   ]
  },
  {
   "cell_type": "code",
   "execution_count": 344,
   "metadata": {},
   "outputs": [],
   "source": [
    "def predict_class(features, coefficients, intercept, threshold):\n",
    "  z = log_odds(features, coefficients, intercept)\n",
    "  a = sigmoid(z)\n",
    "\n",
    "  return np.where(a >= threshold, 1, 0)"
   ]
  },
  {
   "cell_type": "code",
   "execution_count": 351,
   "metadata": {},
   "outputs": [
    {
     "name": "stderr",
     "output_type": "stream",
     "text": [
      "C:\\Users\\AY\\AppData\\Local\\Temp\\ipykernel_17504\\3679002326.py:4: RuntimeWarning: divide by zero encountered in log10\n",
      "  log_loss = -1 * np.mean( y_true*np.log10(y_pred) + (1-y_true)*np.log10(1-y_pred))\n"
     ]
    }
   ],
   "source": [
    "from sklearn.datasets import make_classification\n",
    "from sklearn.model_selection import train_test_split\n",
    "from sklearn.preprocessing import StandardScaler\n",
    "\n",
    "# 데이터 생성\n",
    "X, y = make_classification(n_samples = 50000, n_features = 15, \n",
    "                    n_informative = 10, n_redundant = 5, \n",
    "                    n_classes = 2, weights = [0.7], \n",
    "                    class_sep = 0.7, random_state=15)\n",
    "\n",
    "# 데이터 split\n",
    "X_train, X_test, y_train, y_test = train_test_split(X, y, test_size=0.25, \n",
    "                                                    random_state = 15)\n",
    "\n",
    "# 데이터 정규화 \n",
    "scaler = StandardScaler()\n",
    "x_train_standard = scaler.fit_transform(X_train)\n",
    "x_test_standard = scaler.transform(X_test)\n",
    "\n",
    "# w, b 초기화\n",
    "w = np.zeros_like(X_train[0])\n",
    "b = 0\n",
    "\n",
    "# 학습률, 반복 설정\n",
    "alpha  = 0.0001\n",
    "eta0   = 0.0001\n",
    "epochs = 50\n",
    "\n",
    "N = len(X_train)\n",
    "log_loss_train = []\n",
    "log_loss_test = []\n",
    "\n",
    "for i in range(0, epochs):\n",
    "    for j in range(N):\n",
    "        grad_dw = gradient_dw(x_train_standard[j], y_train[j], w, b, alpha, N)\n",
    "        grad_db = gradient_db(x_train_standard[j], y_train[j], w, b)\n",
    "        w = np.array(w) + (eta0 * np.array(grad_dw))\n",
    "        b = b + (eta0 * grad_db)\n",
    "\n",
    "    predict_train = []\n",
    "    for m in range(len(y_train)):\n",
    "        z = np.dot(w, x_train_standard[m])+b\n",
    "        predict_train.append(sigmoid(z)) \n",
    "    \n",
    "    train_loss = log_loss(y_train, predict_train)\n",
    "\n",
    "    predict_test = []\n",
    "    for m in range(len(y_test)):\n",
    "        z = np.dot(w, x_test_standard[m])+b\n",
    "        predict_test.append(sigmoid(z))\n",
    "    \n",
    "    test_loss = log_loss(y_test, predict_test)\n",
    "\n",
    "\n",
    "    if log_loss_train and train_loss > log_loss_train[-1]: \n",
    "        break\n",
    "    \n",
    "    log_loss_train.append(train_loss)\n",
    "    log_loss_test.append(test_loss)"
   ]
  },
  {
   "cell_type": "code",
   "execution_count": 352,
   "metadata": {},
   "outputs": [
    {
     "name": "stdout",
     "output_type": "stream",
     "text": [
      "weight vector:  [-0.97125471  0.6951594  -0.1064887   0.68159065 -0.4447256   1.00799626\n",
      " -0.94341151 -0.07316669  0.44633501  0.47814799  0.27402291  0.06013621\n",
      " -0.09610527  0.57042941  0.06404642]\n",
      "Intercept:  -1.3691399553813899\n"
     ]
    }
   ],
   "source": [
    "print (\"weight vector: \", w)\n",
    "print (\"Intercept: \", b)"
   ]
  },
  {
   "cell_type": "code",
   "execution_count": 353,
   "metadata": {},
   "outputs": [
    {
     "name": "stdout",
     "output_type": "stream",
     "text": [
      "-- Epoch 1\n",
      "Norm: 0.70, NNZs: 15, Bias: -0.501317, T: 37500, Avg. loss: 0.552526\n",
      "Total training time: 0.01 seconds.\n",
      "-- Epoch 2\n",
      "Norm: 1.04, NNZs: 15, Bias: -0.752393, T: 75000, Avg. loss: 0.448021\n",
      "Total training time: 0.01 seconds.\n",
      "-- Epoch 3\n",
      "Norm: 1.26, NNZs: 15, Bias: -0.902742, T: 112500, Avg. loss: 0.415724\n",
      "Total training time: 0.02 seconds.\n",
      "-- Epoch 4\n",
      "Norm: 1.43, NNZs: 15, Bias: -1.003816, T: 150000, Avg. loss: 0.400895\n",
      "Total training time: 0.02 seconds.\n",
      "-- Epoch 5\n",
      "Norm: 1.55, NNZs: 15, Bias: -1.076296, T: 187500, Avg. loss: 0.392879\n",
      "Total training time: 0.02 seconds.\n",
      "-- Epoch 6\n",
      "Norm: 1.65, NNZs: 15, Bias: -1.131077, T: 225000, Avg. loss: 0.388094\n",
      "Total training time: 0.03 seconds.\n",
      "-- Epoch 7\n",
      "Norm: 1.73, NNZs: 15, Bias: -1.171791, T: 262500, Avg. loss: 0.385077\n",
      "Total training time: 0.03 seconds.\n",
      "-- Epoch 8\n",
      "Norm: 1.80, NNZs: 15, Bias: -1.203840, T: 300000, Avg. loss: 0.383074\n",
      "Total training time: 0.03 seconds.\n",
      "-- Epoch 9\n",
      "Norm: 1.86, NNZs: 15, Bias: -1.229563, T: 337500, Avg. loss: 0.381703\n",
      "Total training time: 0.04 seconds.\n",
      "-- Epoch 10\n",
      "Norm: 1.90, NNZs: 15, Bias: -1.251245, T: 375000, Avg. loss: 0.380763\n",
      "Total training time: 0.04 seconds.\n",
      "-- Epoch 11\n",
      "Norm: 1.94, NNZs: 15, Bias: -1.269044, T: 412500, Avg. loss: 0.380084\n",
      "Total training time: 0.05 seconds.\n",
      "-- Epoch 12\n",
      "Norm: 1.98, NNZs: 15, Bias: -1.282485, T: 450000, Avg. loss: 0.379607\n",
      "Total training time: 0.05 seconds.\n",
      "-- Epoch 13\n",
      "Norm: 2.01, NNZs: 15, Bias: -1.294386, T: 487500, Avg. loss: 0.379251\n",
      "Total training time: 0.05 seconds.\n",
      "-- Epoch 14\n",
      "Norm: 2.03, NNZs: 15, Bias: -1.305805, T: 525000, Avg. loss: 0.378992\n",
      "Total training time: 0.06 seconds.\n",
      "Convergence after 14 epochs took 0.06 seconds\n"
     ]
    },
    {
     "data": {
      "text/plain": [
       "(array([[-0.89007184,  0.63162363, -0.07594145,  0.63107107, -0.38434375,\n",
       "          0.93235243, -0.89573521, -0.07340522,  0.40591417,  0.4199991 ,\n",
       "          0.24722143,  0.05046199, -0.08877987,  0.54081652,  0.06643888]]),\n",
       " array([-1.30580538]))"
      ]
     },
     "execution_count": 353,
     "metadata": {},
     "output_type": "execute_result"
    }
   ],
   "source": [
    "from sklearn.linear_model import SGDClassifier\n",
    "\n",
    "clf = SGDClassifier(eta0 = 0.0001, loss='log', alpha=0.0001, \n",
    "              random_state=15, penalty='l2', tol=1e-3, \n",
    "              verbose=2, learning_rate='constant')\n",
    "clf.fit(x_train_standard, y_train)\n",
    "clf.coef_, clf.intercept_ "
   ]
  },
  {
   "attachments": {},
   "cell_type": "markdown",
   "metadata": {},
   "source": [
    "# L1 regularization"
   ]
  },
  {
   "cell_type": "code",
   "execution_count": 523,
   "metadata": {},
   "outputs": [
    {
     "name": "stdout",
     "output_type": "stream",
     "text": [
      " 0 w = 8.12869, b = -17.01974 error = 415.96292\n",
      " 5 w = 6.51433, b = -17.28987 error = 49.49931\n",
      "10 w = 6.39998, b = -17.32360 error = 47.34708\n",
      "15 w = 6.39396, b = -17.34026 error = 47.31243\n",
      "20 w = 6.39576, b = -17.35567 error = 47.30453\n",
      "25 w = 6.39813, b = -17.37099 error = 47.29791\n",
      "30 w = 6.40054, b = -17.38629 error = 47.29139\n",
      "35 w = 6.40295, b = -17.40159 error = 47.28488\n",
      "40 w = 6.40536, b = -17.41687 error = 47.27839\n",
      "45 w = 6.40777, b = -17.43215 error = 47.27190\n",
      "50 w = 6.41018, b = -17.44743 error = 47.26542\n",
      "55 w = 6.41258, b = -17.46269 error = 47.25895\n",
      "60 w = 6.41499, b = -17.47795 error = 47.25249\n",
      "65 w = 6.41739, b = -17.49320 error = 47.24604\n",
      "70 w = 6.41979, b = -17.50845 error = 47.23959\n",
      "75 w = 6.42219, b = -17.52368 error = 47.23316\n",
      "80 w = 6.42459, b = -17.53891 error = 47.22673\n",
      "85 w = 6.42699, b = -17.55414 error = 47.22032\n",
      "90 w = 6.42939, b = -17.56935 error = 47.21391\n",
      "95 w = 6.43179, b = -17.58456 error = 47.20751\n",
      "------------------------------------------------------------\n",
      "99 w = 6.43370, b = -17.59672 error = 47.20239\n"
     ]
    }
   ],
   "source": [
    "# gradient desent\n",
    "num_epoch = 100\n",
    "errors = []\n",
    "\n",
    "# 학습률\n",
    "learning_rate = 0.01\n",
    "lr = 0.001\n",
    "\n",
    "# 초기 w,b 랜덤 설정\n",
    "w = np.random.uniform(low=9.0, high=10.0)\n",
    "b = np.random.uniform(low=-40.0, high=-10.0)\n",
    "\n",
    "for epoch in range(num_epoch):\n",
    "    y_predict = predict(x, w, b)\n",
    "    error = np.mean(((y_predict - y)**2))\n",
    "    if error < 0.0005:\n",
    "        break\n",
    "\n",
    "    w = w - learning_rate * ((y_predict - y) * x).mean()+ lr * np.sum(np.abs(w))\n",
    "    b = b - learning_rate * (y_predict - y).mean() \n",
    "\n",
    "    errors.append(error)\n",
    "\n",
    "    if epoch % 5 == 0:\n",
    "        print(\"{0:2} w = {1:.5f}, b = {2:.5f} error = {3:.5f}\".format(epoch, w, b, error))\n",
    "\n",
    "print(\"----\" * 15)\n",
    "print(\"{0:2} w = {1:.5f}, b = {2:.5f} error = {3:.5f}\".format(epoch, w, b, error))\n"
   ]
  },
  {
   "attachments": {},
   "cell_type": "markdown",
   "metadata": {},
   "source": [
    "# L2 regularization"
   ]
  },
  {
   "cell_type": "code",
   "execution_count": 495,
   "metadata": {},
   "outputs": [
    {
     "name": "stdout",
     "output_type": "stream",
     "text": [
      " 0 w = 9.60701, b = -34.18808 error = 70.48987\n",
      " 5 w = 9.28504, b = -34.30865 error = 46.29967\n",
      "10 w = 9.26814, b = -34.37909 error = 45.42297\n",
      "15 w = 9.27669, b = -34.44545 error = 45.36489\n",
      "20 w = 9.28738, b = -34.51158 error = 45.36742\n",
      "25 w = 9.29826, b = -34.57779 error = 45.37509\n",
      "30 w = 9.30919, b = -34.64412 error = 45.38334\n",
      "35 w = 9.32013, b = -34.71056 error = 45.39177\n",
      "40 w = 9.33109, b = -34.77711 error = 45.40036\n",
      "45 w = 9.34207, b = -34.84379 error = 45.40910\n",
      "50 w = 9.35307, b = -34.91058 error = 45.41800\n",
      "55 w = 9.36409, b = -34.97749 error = 45.42706\n",
      "60 w = 9.37513, b = -35.04452 error = 45.43627\n",
      "65 w = 9.38619, b = -35.11166 error = 45.44565\n",
      "70 w = 9.39728, b = -35.17893 error = 45.45518\n",
      "75 w = 9.40838, b = -35.24631 error = 45.46487\n",
      "80 w = 9.41950, b = -35.31381 error = 45.47473\n",
      "85 w = 9.43064, b = -35.38144 error = 45.48474\n",
      "90 w = 9.44181, b = -35.44918 error = 45.49492\n",
      "95 w = 9.45299, b = -35.51704 error = 45.50526\n",
      "------------------------------------------------------------\n",
      "99 w = 9.46195, b = -35.57142 error = 45.51366\n"
     ]
    }
   ],
   "source": [
    "# gradient desent\n",
    "num_epoch = 100\n",
    "errors = []\n",
    "\n",
    "# 학습률\n",
    "learning_rate = 0.01\n",
    "lr = 0.001\n",
    "\n",
    "# 초기 w,b 랜덤 설정\n",
    "w = np.random.uniform(low=9.0, high=10.0)\n",
    "b = np.random.uniform(low=-40.0, high=-10.0)\n",
    "\n",
    "for epoch in range(num_epoch):\n",
    "    y_predict = predict(x, w, b)\n",
    "    error = np.mean(((y_predict - y)**2))\n",
    "    if error < 0.0005:\n",
    "        break\n",
    "\n",
    "    w = w - learning_rate * ((y_predict - y) * x).mean()+ lr * np.sum(np.square(w))\n",
    "    b = b - learning_rate * (y_predict - y).mean() \n",
    "\n",
    "    errors.append(error)\n",
    "\n",
    "    if epoch % 5 == 0:\n",
    "        print(\"{0:2} w = {1:.5f}, b = {2:.5f} error = {3:.5f}\".format(epoch, w, b, error))\n",
    "\n",
    "print(\"----\" * 15)\n",
    "print(\"{0:2} w = {1:.5f}, b = {2:.5f} error = {3:.5f}\".format(epoch, w, b, error))\n"
   ]
  },
  {
   "attachments": {},
   "cell_type": "markdown",
   "metadata": {},
   "source": [
    "# Early Stopping"
   ]
  },
  {
   "cell_type": "code",
   "execution_count": null,
   "metadata": {},
   "outputs": [],
   "source": [
    "best_loss = 10 ** 9 # 매우 큰 값으로 초기값 가정\n",
    "limit = 3 # 몇 번의 epoch까지 지켜볼지를 결정\n",
    "check = 0 # 현재 몇 epoch 연속으로 loss 개선이 안되는지를 기록\n",
    "\n",
    "### 전체 학습 코드 스니펫 ###\n",
    "for i in range(epochs):\n",
    "\t\n",
    "    ### 각 epoch의 train 부분 ###\n",
    "    model.train()\n",
    "\n",
    "    for X, y in train_dataloader:\n",
    "        y_pred = model(X)\n",
    "        loss = loss_function(y_pred, y)\n",
    "\n",
    "        optimizer.zero_grad()\n",
    "        loss.backward()\n",
    "        optimizer.step()\n",
    "\n",
    "    ### 각 epoch train 이후 evaluation 진행 ###\n",
    "    model.eval()\n",
    "    val_loss = 0\n",
    "\n",
    "    for X, y in eval_dataloader:\n",
    "        \n",
    "        y_pred = model(X)\n",
    "        loss = loss_function(y_pred, y)\n",
    "\n",
    "        val_loss += loss.item()   \n",
    "        \n",
    "    ### early stopping 여부를 체크하는 부분 ###\n",
    "    if val_loss > best_loss: # loss가 개선되지 않은 경우\n",
    "        patience_check += 1\n",
    "\n",
    "        if patience_check >= patience_limit: # early stopping 조건 만족 시 조기 종료\n",
    "            break\n",
    "\n",
    "    else: # loss가 개선된 경우\n",
    "        best_loss = val_loss\n",
    "        patience_check = 0"
   ]
  },
  {
   "cell_type": "code",
   "execution_count": 534,
   "metadata": {},
   "outputs": [
    {
     "name": "stdout",
     "output_type": "stream",
     "text": [
      " 0 w = 8.84315, b = -28.51546 error = 88.80058\n",
      " 5 w = 8.36923, b = -28.65137 error = 46.38757\n",
      "10 w = 8.33880, b = -28.71463 error = 45.26418\n",
      "15 w = 8.34486, b = -28.77199 error = 45.18496\n",
      "20 w = 8.35392, b = -28.82896 error = 45.17575\n",
      "25 w = 8.36324, b = -28.88596 error = 45.17227\n",
      "30 w = 8.37259, b = -28.94305 error = 45.16935\n",
      "35 w = 8.38196, b = -29.00023 error = 45.16656\n",
      "40 w = 8.39135, b = -29.05749 error = 45.16387\n",
      "45 w = 8.40075, b = -29.11484 error = 45.16128\n",
      "50 w = 8.41016, b = -29.17227 error = 45.15878\n",
      "55 w = 8.41959, b = -29.22979 error = 45.15638\n",
      "60 w = 8.42903, b = -29.28740 error = 45.15407\n",
      "65 w = 8.43849, b = -29.34509 error = 45.15186\n",
      "70 w = 8.44797, b = -29.40288 error = 45.14975\n",
      "75 w = 8.45746, b = -29.46075 error = 45.14774\n",
      "80 w = 8.46696, b = -29.51871 error = 45.14582\n",
      "85 w = 8.47648, b = -29.57675 error = 45.14400\n",
      "90 w = 8.48601, b = -29.63489 error = 45.14229\n",
      "95 w = 8.49556, b = -29.69311 error = 45.14067\n",
      "100 w = 8.50512, b = -29.75143 error = 45.13915\n",
      "105 w = 8.51470, b = -29.80983 error = 45.13773\n",
      "110 w = 8.52430, b = -29.86832 error = 45.13642\n",
      "115 w = 8.53390, b = -29.92691 error = 45.13521\n",
      "120 w = 8.54353, b = -29.98558 error = 45.13410\n",
      "125 w = 8.55317, b = -30.04435 error = 45.13309\n",
      "130 w = 8.56282, b = -30.10320 error = 45.13219\n",
      "135 w = 8.57249, b = -30.16215 error = 45.13139\n",
      "140 w = 8.58218, b = -30.22119 error = 45.13069\n",
      "145 w = 8.59188, b = -30.28032 error = 45.13010\n",
      "150 w = 8.60160, b = -30.33954 error = 45.12962\n",
      "155 w = 8.61133, b = -30.39886 error = 45.12924\n",
      "160 w = 8.62108, b = -30.45826 error = 45.12897\n",
      "165 w = 8.63085, b = -30.51776 error = 45.12880\n",
      "170 w = 8.64063, b = -30.57736 error = 45.12875\n",
      "175 w = 8.65042, b = -30.63705 error = 45.12880\n",
      "180 w = 8.66023, b = -30.69683 error = 45.12896\n",
      "185 w = 8.67006, b = -30.75670 error = 45.12923\n",
      "190 w = 8.67991, b = -30.81667 error = 45.12961\n",
      "195 w = 8.68977, b = -30.87674 error = 45.13010\n",
      "200 w = 8.69964, b = -30.93690 error = 45.13070\n",
      "205 w = 8.70953, b = -30.99716 error = 45.13142\n",
      "210 w = 8.71944, b = -31.05751 error = 45.13225\n",
      "215 w = 8.72937, b = -31.11796 error = 45.13319\n",
      "220 w = 8.73931, b = -31.17850 error = 45.13424\n",
      "225 w = 8.74927, b = -31.23914 error = 45.13541\n",
      "230 w = 8.75924, b = -31.29988 error = 45.13669\n",
      "235 w = 8.76923, b = -31.36072 error = 45.13809\n",
      "240 w = 8.77924, b = -31.42165 error = 45.13960\n",
      "245 w = 8.78926, b = -31.48268 error = 45.14123\n",
      "250 w = 8.79930, b = -31.54381 error = 45.14298\n",
      "255 w = 8.80936, b = -31.60504 error = 45.14485\n",
      "260 w = 8.81943, b = -31.66637 error = 45.14683\n",
      "265 w = 8.82952, b = -31.72779 error = 45.14894\n",
      "------------------------------------------------------------\n",
      "270 w = 8.83963, b = -31.78932 error = 45.15116\n"
     ]
    }
   ],
   "source": [
    "# gradient desent\n",
    "num_epoch = 10000\n",
    "errors = []\n",
    "\n",
    "# limit epoch 설정\n",
    "limit = 100\n",
    "# 현재 몇 epoch 연속으로 loss 개선이 안되는지를 기록\n",
    "check = 0 \n",
    "best_loss = 9999\n",
    "\n",
    "# 학습률\n",
    "learning_rate = 0.01\n",
    "\n",
    "# 초기 w,b 랜덤 설정\n",
    "w = np.random.uniform(low=9.0, high=10.0)\n",
    "b = np.random.uniform(low=-40.0, high=-10.0)\n",
    "\n",
    "for epoch in range(num_epoch):\n",
    "    y_predict = predict(x, w, b)\n",
    "    error = np.mean(((y_predict - y)**2))\n",
    "    \n",
    "    if error < 0.0005:\n",
    "        break\n",
    "\n",
    "    w = w - learning_rate * ((y_predict - y) * x).mean()+ lr * np.sum(np.square(w))\n",
    "    b = b - learning_rate * (y_predict - y).mean() \n",
    "\n",
    "    errors.append(error)\n",
    "    \n",
    "    # EARLY STOPPING\n",
    "    if best_loss < error:\n",
    "        check += 1\n",
    "        if check >= limit:\n",
    "            break\n",
    "    else:\n",
    "        best_loss = error\n",
    "        check = 0\n",
    "\n",
    "    \n",
    "    if epoch % 5 == 0:\n",
    "        print(\"{0:2} w = {1:.5f}, b = {2:.5f} error = {3:.5f}\".format(epoch, w, b, error))\n",
    "\n",
    "print(\"----\" * 15)\n",
    "print(\"{0:2} w = {1:.5f}, b = {2:.5f} error = {3:.5f}\".format(epoch, w, b, error))"
   ]
  },
  {
   "attachments": {},
   "cell_type": "markdown",
   "metadata": {},
   "source": [
    "# dropout"
   ]
  },
  {
   "cell_type": "code",
   "execution_count": 542,
   "metadata": {},
   "outputs": [],
   "source": [
    "def dropout(X, drop_prob):\n",
    "    assert 0 <= drop_prob <= 1\n",
    "    \n",
    "    if drop_prob == 1:\n",
    "        return np.zeros_like(X)\n",
    "    mask = np.random.uniform(0, 1, X.shape) > drop_prob\n",
    "    return mask * X / (1.0-drop_prob)"
   ]
  },
  {
   "cell_type": "code",
   "execution_count": 544,
   "metadata": {},
   "outputs": [
    {
     "name": "stdout",
     "output_type": "stream",
     "text": [
      "[[ 0.  1.  2.  3.  4.  5.  6.  7.]\n",
      " [ 8.  9. 10. 11. 12. 13. 14. 15.]]\n",
      "[[ 0.          1.42857143  0.          0.          5.71428571  7.14285714\n",
      "   8.57142857 10.        ]\n",
      " [ 0.          0.         14.28571429  0.         17.14285714  0.\n",
      "  20.          0.        ]]\n",
      "[[ 0.  0.  4.  0.  0.  0.  0. 14.]\n",
      " [16. 18. 20.  0. 24.  0.  0. 30.]]\n",
      "[[0 0 0 0 0 0 0 0]\n",
      " [0 0 0 0 0 0 0 0]]\n"
     ]
    }
   ],
   "source": [
    "X = np.arange(16).reshape((2, 8))\n",
    "print(dropout(X, 0))\n",
    "print(dropout(X, 0.3))\n",
    "print(dropout(X, 0.5))\n",
    "print(dropout(X, 1))"
   ]
  }
 ],
 "metadata": {
  "kernelspec": {
   "display_name": "base",
   "language": "python",
   "name": "python3"
  },
  "language_info": {
   "codemirror_mode": {
    "name": "ipython",
    "version": 3
   },
   "file_extension": ".py",
   "mimetype": "text/x-python",
   "name": "python",
   "nbconvert_exporter": "python",
   "pygments_lexer": "ipython3",
   "version": "3.9.13"
  },
  "orig_nbformat": 4,
  "vscode": {
   "interpreter": {
    "hash": "3c73bdefccaf48e728a83183c4b62184225f554a39082c36ad770ba68b989c4f"
   }
  }
 },
 "nbformat": 4,
 "nbformat_minor": 2
}
