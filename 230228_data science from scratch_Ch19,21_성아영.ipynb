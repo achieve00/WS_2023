{
 "cells": [
  {
   "cell_type": "code",
   "execution_count": 2,
   "metadata": {},
   "outputs": [
    {
     "name": "stdout",
     "output_type": "stream",
     "text": [
      "z = tensor([-0.3568,  0.6007, -0.6968, -0.5242,  0.9087])\n",
      "y_hat = tensor([0.4117, 0.6458, 0.3325, 0.3719, 0.7127])\n",
      "y = tensor([0., 1., 1., 0., 1.])\n",
      "--------------------------------------------------------------------------------\n",
      "Negative Log-likelihoods\n",
      "    tensor([0.5306, 0.4372, 1.1010, 0.4650, 0.3387])\n",
      "Loss Summantion : 2.8724989891052246\n"
     ]
    }
   ],
   "source": [
    "import torch\n",
    "import torch.nn as nn\n",
    "\n",
    "torch.manual_seed(77)\n",
    "\n",
    "z = torch.randn(5) # z = f(x)\n",
    "y_hat = torch.sigmoid(z) # y_hat = sigmoid(f(x))\n",
    "y = torch.tensor([0.,1.,1.,0.,1.]) \n",
    "\n",
    "print(f\"z = {z}\\ny_hat = {y_hat}\\ny = {y}\\n{'':-^80}\")\n",
    "\n",
    "# Negative Log-likelihoods\n",
    "loss_NLL_scratch = -(y * y_hat.log() + (1 - y) * (1 - y_hat).log())\n",
    "print(f\"Negative Log-likelihoods\\n    {loss_NLL_scratch}\")\n",
    "print(f\"Loss Summantion : {loss_NLL_scratch.sum()}\")"
   ]
  },
  {
   "cell_type": "code",
   "execution_count": 2,
   "metadata": {},
   "outputs": [
    {
     "name": "stderr",
     "output_type": "stream",
     "text": [
      "c:\\Users\\AY\\anaconda3\\envs\\pytorch\\lib\\site-packages\\tqdm\\auto.py:22: TqdmWarning: IProgress not found. Please update jupyter and ipywidgets. See https://ipywidgets.readthedocs.io/en/stable/user_install.html\n",
      "  from .autonotebook import tqdm as notebook_tqdm\n"
     ]
    },
    {
     "name": "stdout",
     "output_type": "stream",
     "text": [
      "---------------------------Setting up multiclass case---------------------------\n",
      "z = tensor([[-0.3568,  0.6007, -0.6968],\n",
      "        [-0.5242,  0.9087, -1.6423],\n",
      "        [ 0.4583, -0.1266,  0.2302],\n",
      "        [ 0.0024, -0.8097,  1.3568],\n",
      "        [-0.6798, -0.0881, -1.2044]])\n",
      "y_hat = tensor([[0.2316, 0.6035, 0.1649],\n",
      "        [0.1812, 0.7595, 0.0592],\n",
      "        [0.4250, 0.2368, 0.3383],\n",
      "        [0.1880, 0.0835, 0.7285],\n",
      "        [0.2942, 0.5317, 0.1741]])\n",
      "y = tensor([0, 1, 0, 2, 1])\n",
      "--------------------------------------------------------------------------------\n",
      "Negative Log-likelihoods\n",
      "    tensor([1.4626, 0.2751, 0.8558, 0.3168, 0.6317])\n",
      "Loss Summantion : 3.5419459342956543\n"
     ]
    }
   ],
   "source": [
    "import torch\n",
    "import torch.nn as nn\n",
    "\n",
    "torch.manual_seed(77)\n",
    "\n",
    "### Multi class Setting ###\n",
    "\n",
    "print(f\"{'Setting up multiclass case':-^80}\") \n",
    "\n",
    "z = torch.randn(5,3) # z = f(x)\n",
    "y_hat = torch.softmax(z, dim=1) # y_hat = softmax(f(x))\n",
    "\n",
    "y = torch.tensor([0,1,0,2,1]) \n",
    "\n",
    "print(f\"z = {z}\\ny_hat = {y_hat}\\ny = {y}\\n{'':-^80}\")\n",
    "\n",
    "# Negative Log-likelihoods \n",
    "loss_NLL_scratch = -y_hat.log()[torch.arange(5),y.long()] \n",
    "print(f\"Negative Log-likelihoods\\n    {loss_NLL_scratch}\")\n",
    "print(f\"Loss Summantion : {loss_NLL_scratch.sum()}\")"
   ]
  },
  {
   "attachments": {},
   "cell_type": "markdown",
   "metadata": {},
   "source": [
    "# 오토인코더"
   ]
  },
  {
   "cell_type": "code",
   "execution_count": 3,
   "metadata": {},
   "outputs": [],
   "source": [
    "# 입력 데이터의 열 수\n",
    "num_features = 180\n",
    "threshold = 0.1  # 이상치 판단 기준값\n",
    "\n",
    "class Autoencoder(nn.Module):\n",
    "    def __init__(self):\n",
    "        super(Autoencoder, self).__init__()\n",
    "        \n",
    "        # 인코더\n",
    "        self.encoder = nn.Sequential(\n",
    "            nn.Linear(num_features, 128),\n",
    "            nn.ReLU(),\n",
    "            nn.Linear(128, 64),\n",
    "            nn.ReLU(),\n",
    "            nn.Linear(64, 32)\n",
    "        )\n",
    "        \n",
    "        # 디코더\n",
    "        self.decoder = nn.Sequential(\n",
    "            nn.Linear(32, 64),\n",
    "            nn.ReLU(),\n",
    "            nn.Linear(64, 128),\n",
    "            nn.ReLU(),\n",
    "            nn.Linear(128, num_features),\n",
    "            nn.Sigmoid()\n",
    "        )\n",
    "        \n",
    "    def forward(self, x):\n",
    "        encoded = self.encoder(x)\n",
    "        decoded = self.decoder(encoded)\n",
    "        return decoded"
   ]
  },
  {
   "cell_type": "code",
   "execution_count": null,
   "metadata": {},
   "outputs": [],
   "source": []
  }
 ],
 "metadata": {
  "kernelspec": {
   "display_name": "pytorch",
   "language": "python",
   "name": "python3"
  },
  "language_info": {
   "codemirror_mode": {
    "name": "ipython",
    "version": 3
   },
   "file_extension": ".py",
   "mimetype": "text/x-python",
   "name": "python",
   "nbconvert_exporter": "python",
   "pygments_lexer": "ipython3",
   "version": "3.10.9"
  },
  "orig_nbformat": 4,
  "vscode": {
   "interpreter": {
    "hash": "8c8c71af42958ec634c0ab668bdf68a5aad4883dbc95da39cc1ca574b9a094d8"
   }
  }
 },
 "nbformat": 4,
 "nbformat_minor": 2
}
